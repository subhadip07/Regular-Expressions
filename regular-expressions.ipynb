{
 "cells": [
  {
   "cell_type": "markdown",
   "id": "7f1518b1-05be-4b91-b5fc-b7cdd3ae6863",
   "metadata": {},
   "source": [
    "## 1. Import Libraries"
   ]
  },
  {
   "cell_type": "code",
   "execution_count": 1,
   "id": "494bf4e1-018b-4b14-954f-c9b79b650079",
   "metadata": {},
   "outputs": [],
   "source": [
    "import re"
   ]
  },
  {
   "cell_type": "markdown",
   "id": "d90efe96-5bb6-4980-815d-845eab51999e",
   "metadata": {},
   "source": [
    "## 2. Raw Strings"
   ]
  },
  {
   "cell_type": "code",
   "execution_count": 2,
   "id": "fd984dfc-e6a4-41d9-8ee8-6c90a707c783",
   "metadata": {},
   "outputs": [
    {
     "name": "stdout",
     "output_type": "stream",
     "text": [
      "Hello\n",
      "World\n"
     ]
    }
   ],
   "source": [
    "print(\"Hello\\nWorld\")"
   ]
  },
  {
   "cell_type": "code",
   "execution_count": 3,
   "id": "df211067-f686-4588-ab06-d18a4ac7a3ca",
   "metadata": {},
   "outputs": [
    {
     "name": "stdout",
     "output_type": "stream",
     "text": [
      "Hello\\nWorld\n"
     ]
    }
   ],
   "source": [
    "print(r\"Hello\\nWorld\")"
   ]
  },
  {
   "cell_type": "markdown",
   "id": "fc6109af-c97a-4b3d-8a6d-a8dc4ae794b8",
   "metadata": {},
   "source": [
    "## 3. Search Operations"
   ]
  },
  {
   "cell_type": "code",
   "execution_count": 4,
   "id": "eb8bb9b0-8857-4ae2-b795-42d3b3e3eb1f",
   "metadata": {},
   "outputs": [],
   "source": [
    "test_string = \"123abc456789abc123ABC\""
   ]
  },
  {
   "cell_type": "code",
   "execution_count": 5,
   "id": "267189c3-0bb3-4cca-ac8b-d096bd2c83f9",
   "metadata": {},
   "outputs": [],
   "source": [
    "# re.match()"
   ]
  },
  {
   "cell_type": "code",
   "execution_count": 6,
   "id": "4b3c8ab4-abdd-455d-8d3f-bfd34e51a338",
   "metadata": {},
   "outputs": [],
   "source": [
    "pattern = re.compile(r\"abc\")\n",
    "\n",
    "match = re.match(pattern, test_string)"
   ]
  },
  {
   "cell_type": "code",
   "execution_count": 7,
   "id": "931fd4cc-d17e-45d5-8da7-95035c639cca",
   "metadata": {},
   "outputs": [
    {
     "name": "stdout",
     "output_type": "stream",
     "text": [
      "None\n"
     ]
    }
   ],
   "source": [
    "print(match)"
   ]
  },
  {
   "cell_type": "code",
   "execution_count": 8,
   "id": "820c79a9-9cc8-4949-ba95-0b22bd5c5a28",
   "metadata": {},
   "outputs": [
    {
     "name": "stdout",
     "output_type": "stream",
     "text": [
      "<re.Match object; span=(0, 3), match='123'>\n"
     ]
    }
   ],
   "source": [
    "pattern = re.compile(r\"123\")\n",
    "\n",
    "match = re.match(pattern, test_string)\n",
    "print(match)"
   ]
  },
  {
   "cell_type": "code",
   "execution_count": 9,
   "id": "f4553e7c-eda1-4939-bc42-6b61b678e7cc",
   "metadata": {},
   "outputs": [
    {
     "data": {
      "text/plain": [
       "(0, 3)"
      ]
     },
     "execution_count": 9,
     "metadata": {},
     "output_type": "execute_result"
    }
   ],
   "source": [
    "match.span()"
   ]
  },
  {
   "cell_type": "code",
   "execution_count": 10,
   "id": "96dc04b5-7b14-49ee-8906-85619be13db2",
   "metadata": {},
   "outputs": [
    {
     "data": {
      "text/plain": [
       "'123'"
      ]
     },
     "execution_count": 10,
     "metadata": {},
     "output_type": "execute_result"
    }
   ],
   "source": [
    "start_index, end_index = match.span()\n",
    "\n",
    "test_string[start_index:end_index]"
   ]
  },
  {
   "cell_type": "code",
   "execution_count": 11,
   "id": "0ebd5861-aedb-416c-96c4-4f88aa986944",
   "metadata": {},
   "outputs": [
    {
     "data": {
      "text/plain": [
       "0"
      ]
     },
     "execution_count": 11,
     "metadata": {},
     "output_type": "execute_result"
    }
   ],
   "source": [
    "match.start()"
   ]
  },
  {
   "cell_type": "code",
   "execution_count": 12,
   "id": "ab090aff-e056-4d47-86fe-56ca4557ae46",
   "metadata": {},
   "outputs": [
    {
     "data": {
      "text/plain": [
       "3"
      ]
     },
     "execution_count": 12,
     "metadata": {},
     "output_type": "execute_result"
    }
   ],
   "source": [
    "match.end()"
   ]
  },
  {
   "cell_type": "code",
   "execution_count": 13,
   "id": "6609832a-610a-492d-9c53-4c7b81d60b24",
   "metadata": {},
   "outputs": [
    {
     "data": {
      "text/plain": [
       "'123'"
      ]
     },
     "execution_count": 13,
     "metadata": {},
     "output_type": "execute_result"
    }
   ],
   "source": [
    "match.group()"
   ]
  },
  {
   "cell_type": "code",
   "execution_count": 14,
   "id": "ae09e531-fd81-4085-a808-d395b6395b17",
   "metadata": {},
   "outputs": [],
   "source": [
    "# re.search()"
   ]
  },
  {
   "cell_type": "code",
   "execution_count": 15,
   "id": "981e45e1-9629-4d16-8279-673bdb9b5d71",
   "metadata": {},
   "outputs": [
    {
     "data": {
      "text/plain": [
       "'123abc456789abc123ABC'"
      ]
     },
     "execution_count": 15,
     "metadata": {},
     "output_type": "execute_result"
    }
   ],
   "source": [
    "test_string"
   ]
  },
  {
   "cell_type": "code",
   "execution_count": 16,
   "id": "46d03275-e46d-4e58-afde-308e8fd67a64",
   "metadata": {},
   "outputs": [
    {
     "data": {
      "text/plain": [
       "<re.Match object; span=(3, 6), match='abc'>"
      ]
     },
     "execution_count": 16,
     "metadata": {},
     "output_type": "execute_result"
    }
   ],
   "source": [
    "pattern = re.compile(r\"abc\")\n",
    "\n",
    "match = re.search(pattern, test_string)\n",
    "match"
   ]
  },
  {
   "cell_type": "code",
   "execution_count": 17,
   "id": "00f46259-bba3-4aba-906f-8ba6d0d91f55",
   "metadata": {},
   "outputs": [
    {
     "data": {
      "text/plain": [
       "'abc'"
      ]
     },
     "execution_count": 17,
     "metadata": {},
     "output_type": "execute_result"
    }
   ],
   "source": [
    "match.group()"
   ]
  },
  {
   "cell_type": "code",
   "execution_count": 18,
   "id": "e687dd20-14bb-4e04-9a6f-9f33d1039b78",
   "metadata": {},
   "outputs": [
    {
     "data": {
      "text/plain": [
       "'abc'"
      ]
     },
     "execution_count": 18,
     "metadata": {},
     "output_type": "execute_result"
    }
   ],
   "source": [
    "start_index, end_index = match.span()\n",
    "\n",
    "test_string[start_index:end_index]"
   ]
  },
  {
   "cell_type": "code",
   "execution_count": 19,
   "id": "36d4c045-f571-42e8-84dd-71b29629abc6",
   "metadata": {},
   "outputs": [],
   "source": [
    "# re.findall()"
   ]
  },
  {
   "cell_type": "code",
   "execution_count": 20,
   "id": "e0444189-aa8c-4bd1-92fa-667189b78fc2",
   "metadata": {},
   "outputs": [
    {
     "data": {
      "text/plain": [
       "['abc', 'abc']"
      ]
     },
     "execution_count": 20,
     "metadata": {},
     "output_type": "execute_result"
    }
   ],
   "source": [
    "pattern = re.compile(r\"abc\")\n",
    "\n",
    "matches = re.findall(pattern, test_string)\n",
    "matches"
   ]
  },
  {
   "cell_type": "code",
   "execution_count": 21,
   "id": "f96c3f2b-b664-4a78-ad00-b0f8d6489421",
   "metadata": {},
   "outputs": [],
   "source": [
    "# re.finditer()"
   ]
  },
  {
   "cell_type": "code",
   "execution_count": 22,
   "id": "952f02e7-f3eb-4bd8-be31-78b2f63c8345",
   "metadata": {},
   "outputs": [
    {
     "name": "stdout",
     "output_type": "stream",
     "text": [
      "<re.Match object; span=(3, 6), match='abc'>\n",
      "<re.Match object; span=(12, 15), match='abc'>\n"
     ]
    }
   ],
   "source": [
    "pattern = re.compile(r\"abc\")\n",
    "\n",
    "matches = re.finditer(pattern, test_string)\n",
    "\n",
    "for match in matches:\n",
    "\tprint(match)"
   ]
  },
  {
   "cell_type": "markdown",
   "id": "848dac78-7810-475b-a6ed-a624721a4089",
   "metadata": {},
   "source": [
    "## 4. Meta Characters"
   ]
  },
  {
   "cell_type": "code",
   "execution_count": 23,
   "id": "156acd2d-6ca2-41f2-8977-2ce8fb59132d",
   "metadata": {},
   "outputs": [],
   "source": [
    "test_string_1 = \"123abc.456789abc123defGHI.ABC \\n xyz345WXYZ\""
   ]
  },
  {
   "cell_type": "code",
   "execution_count": 24,
   "id": "c561f1a7-5f38-4654-8af8-a0d5adfbaff5",
   "metadata": {},
   "outputs": [],
   "source": [
    "test_string_2 = \"The cat sat on the mat with a bat and a hat.\""
   ]
  },
  {
   "cell_type": "code",
   "execution_count": 25,
   "id": "e87d9726-6e33-4bd9-83e1-0cab3f32d2e6",
   "metadata": {},
   "outputs": [],
   "source": [
    "test_string_3 = \"The cat sat on the mat with a bat and a hat. $at, 8at, at.\""
   ]
  },
  {
   "cell_type": "code",
   "execution_count": 26,
   "id": "23e8202f-5b13-4fdd-81c8-0eb2b2942a2e",
   "metadata": {},
   "outputs": [],
   "source": [
    "text = \"\"\"Hello World!\n",
    "This is a test.\n",
    "Hello again!\n",
    "Python is fun.\n",
    "Hello Python\"\"\""
   ]
  },
  {
   "cell_type": "markdown",
   "id": "5f98b41d-074c-436e-8bd2-b54cd2558c2f",
   "metadata": {},
   "source": [
    "### 4.1 dot (.)"
   ]
  },
  {
   "cell_type": "code",
   "execution_count": 27,
   "id": "e69e15db-c636-48e2-95a5-c57d4ba92209",
   "metadata": {},
   "outputs": [
    {
     "name": "stdout",
     "output_type": "stream",
     "text": [
      "<re.Match object; span=(0, 1), match='1'>\n",
      "<re.Match object; span=(1, 2), match='2'>\n",
      "<re.Match object; span=(2, 3), match='3'>\n",
      "<re.Match object; span=(3, 4), match='a'>\n",
      "<re.Match object; span=(4, 5), match='b'>\n",
      "<re.Match object; span=(5, 6), match='c'>\n",
      "<re.Match object; span=(6, 7), match='.'>\n",
      "<re.Match object; span=(7, 8), match='4'>\n",
      "<re.Match object; span=(8, 9), match='5'>\n",
      "<re.Match object; span=(9, 10), match='6'>\n",
      "<re.Match object; span=(10, 11), match='7'>\n",
      "<re.Match object; span=(11, 12), match='8'>\n",
      "<re.Match object; span=(12, 13), match='9'>\n",
      "<re.Match object; span=(13, 14), match='a'>\n",
      "<re.Match object; span=(14, 15), match='b'>\n",
      "<re.Match object; span=(15, 16), match='c'>\n",
      "<re.Match object; span=(16, 17), match='1'>\n",
      "<re.Match object; span=(17, 18), match='2'>\n",
      "<re.Match object; span=(18, 19), match='3'>\n",
      "<re.Match object; span=(19, 20), match='d'>\n",
      "<re.Match object; span=(20, 21), match='e'>\n",
      "<re.Match object; span=(21, 22), match='f'>\n",
      "<re.Match object; span=(22, 23), match='G'>\n",
      "<re.Match object; span=(23, 24), match='H'>\n",
      "<re.Match object; span=(24, 25), match='I'>\n",
      "<re.Match object; span=(25, 26), match='.'>\n",
      "<re.Match object; span=(26, 27), match='A'>\n",
      "<re.Match object; span=(27, 28), match='B'>\n",
      "<re.Match object; span=(28, 29), match='C'>\n",
      "<re.Match object; span=(29, 30), match=' '>\n",
      "<re.Match object; span=(31, 32), match=' '>\n",
      "<re.Match object; span=(32, 33), match='x'>\n",
      "<re.Match object; span=(33, 34), match='y'>\n",
      "<re.Match object; span=(34, 35), match='z'>\n",
      "<re.Match object; span=(35, 36), match='3'>\n",
      "<re.Match object; span=(36, 37), match='4'>\n",
      "<re.Match object; span=(37, 38), match='5'>\n",
      "<re.Match object; span=(38, 39), match='W'>\n",
      "<re.Match object; span=(39, 40), match='X'>\n",
      "<re.Match object; span=(40, 41), match='Y'>\n",
      "<re.Match object; span=(41, 42), match='Z'>\n"
     ]
    }
   ],
   "source": [
    "pattern = re.compile(r\".\")\n",
    "\n",
    "matches = re.finditer(pattern, test_string_1)\n",
    "\n",
    "for match in matches:\n",
    "\tprint(match)"
   ]
  },
  {
   "cell_type": "code",
   "execution_count": 28,
   "id": "284f2658-b678-4e40-859f-a990a1cf839a",
   "metadata": {},
   "outputs": [
    {
     "name": "stdout",
     "output_type": "stream",
     "text": [
      "The cat sat on the mat with a bat and a hat.\n",
      "\n",
      "<re.Match object; span=(0, 1), match='T'>\n",
      "<re.Match object; span=(1, 2), match='h'>\n",
      "<re.Match object; span=(2, 3), match='e'>\n",
      "<re.Match object; span=(3, 4), match=' '>\n",
      "<re.Match object; span=(4, 5), match='c'>\n",
      "<re.Match object; span=(5, 6), match='a'>\n",
      "<re.Match object; span=(6, 7), match='t'>\n",
      "<re.Match object; span=(7, 8), match=' '>\n",
      "<re.Match object; span=(8, 9), match='s'>\n",
      "<re.Match object; span=(9, 10), match='a'>\n",
      "<re.Match object; span=(10, 11), match='t'>\n",
      "<re.Match object; span=(11, 12), match=' '>\n",
      "<re.Match object; span=(12, 13), match='o'>\n",
      "<re.Match object; span=(13, 14), match='n'>\n",
      "<re.Match object; span=(14, 15), match=' '>\n",
      "<re.Match object; span=(15, 16), match='t'>\n",
      "<re.Match object; span=(16, 17), match='h'>\n",
      "<re.Match object; span=(17, 18), match='e'>\n",
      "<re.Match object; span=(18, 19), match=' '>\n",
      "<re.Match object; span=(19, 20), match='m'>\n",
      "<re.Match object; span=(20, 21), match='a'>\n",
      "<re.Match object; span=(21, 22), match='t'>\n",
      "<re.Match object; span=(22, 23), match=' '>\n",
      "<re.Match object; span=(23, 24), match='w'>\n",
      "<re.Match object; span=(24, 25), match='i'>\n",
      "<re.Match object; span=(25, 26), match='t'>\n",
      "<re.Match object; span=(26, 27), match='h'>\n",
      "<re.Match object; span=(27, 28), match=' '>\n",
      "<re.Match object; span=(28, 29), match='a'>\n",
      "<re.Match object; span=(29, 30), match=' '>\n",
      "<re.Match object; span=(30, 31), match='b'>\n",
      "<re.Match object; span=(31, 32), match='a'>\n",
      "<re.Match object; span=(32, 33), match='t'>\n",
      "<re.Match object; span=(33, 34), match=' '>\n",
      "<re.Match object; span=(34, 35), match='a'>\n",
      "<re.Match object; span=(35, 36), match='n'>\n",
      "<re.Match object; span=(36, 37), match='d'>\n",
      "<re.Match object; span=(37, 38), match=' '>\n",
      "<re.Match object; span=(38, 39), match='a'>\n",
      "<re.Match object; span=(39, 40), match=' '>\n",
      "<re.Match object; span=(40, 41), match='h'>\n",
      "<re.Match object; span=(41, 42), match='a'>\n",
      "<re.Match object; span=(42, 43), match='t'>\n",
      "<re.Match object; span=(43, 44), match='.'>\n"
     ]
    }
   ],
   "source": [
    "print(test_string_2, end=\"\\n\\n\")\n",
    "\n",
    "pattern = re.compile(r\".\")\n",
    "\n",
    "matches = re.finditer(pattern, test_string_2)\n",
    "\n",
    "for match in matches:\n",
    "\tprint(match)"
   ]
  },
  {
   "cell_type": "code",
   "execution_count": 29,
   "id": "e03f03b9-cb0f-4762-9109-dd167fe8f329",
   "metadata": {},
   "outputs": [
    {
     "name": "stdout",
     "output_type": "stream",
     "text": [
      "The cat sat on the mat with a bat and a hat. $at, 8at, at.\n",
      "\n",
      "<re.Match object; span=(0, 1), match='T'>\n",
      "<re.Match object; span=(1, 2), match='h'>\n",
      "<re.Match object; span=(2, 3), match='e'>\n",
      "<re.Match object; span=(3, 4), match=' '>\n",
      "<re.Match object; span=(4, 5), match='c'>\n",
      "<re.Match object; span=(5, 6), match='a'>\n",
      "<re.Match object; span=(6, 7), match='t'>\n",
      "<re.Match object; span=(7, 8), match=' '>\n",
      "<re.Match object; span=(8, 9), match='s'>\n",
      "<re.Match object; span=(9, 10), match='a'>\n",
      "<re.Match object; span=(10, 11), match='t'>\n",
      "<re.Match object; span=(11, 12), match=' '>\n",
      "<re.Match object; span=(12, 13), match='o'>\n",
      "<re.Match object; span=(13, 14), match='n'>\n",
      "<re.Match object; span=(14, 15), match=' '>\n",
      "<re.Match object; span=(15, 16), match='t'>\n",
      "<re.Match object; span=(16, 17), match='h'>\n",
      "<re.Match object; span=(17, 18), match='e'>\n",
      "<re.Match object; span=(18, 19), match=' '>\n",
      "<re.Match object; span=(19, 20), match='m'>\n",
      "<re.Match object; span=(20, 21), match='a'>\n",
      "<re.Match object; span=(21, 22), match='t'>\n",
      "<re.Match object; span=(22, 23), match=' '>\n",
      "<re.Match object; span=(23, 24), match='w'>\n",
      "<re.Match object; span=(24, 25), match='i'>\n",
      "<re.Match object; span=(25, 26), match='t'>\n",
      "<re.Match object; span=(26, 27), match='h'>\n",
      "<re.Match object; span=(27, 28), match=' '>\n",
      "<re.Match object; span=(28, 29), match='a'>\n",
      "<re.Match object; span=(29, 30), match=' '>\n",
      "<re.Match object; span=(30, 31), match='b'>\n",
      "<re.Match object; span=(31, 32), match='a'>\n",
      "<re.Match object; span=(32, 33), match='t'>\n",
      "<re.Match object; span=(33, 34), match=' '>\n",
      "<re.Match object; span=(34, 35), match='a'>\n",
      "<re.Match object; span=(35, 36), match='n'>\n",
      "<re.Match object; span=(36, 37), match='d'>\n",
      "<re.Match object; span=(37, 38), match=' '>\n",
      "<re.Match object; span=(38, 39), match='a'>\n",
      "<re.Match object; span=(39, 40), match=' '>\n",
      "<re.Match object; span=(40, 41), match='h'>\n",
      "<re.Match object; span=(41, 42), match='a'>\n",
      "<re.Match object; span=(42, 43), match='t'>\n",
      "<re.Match object; span=(43, 44), match='.'>\n",
      "<re.Match object; span=(44, 45), match=' '>\n",
      "<re.Match object; span=(45, 46), match='$'>\n",
      "<re.Match object; span=(46, 47), match='a'>\n",
      "<re.Match object; span=(47, 48), match='t'>\n",
      "<re.Match object; span=(48, 49), match=','>\n",
      "<re.Match object; span=(49, 50), match=' '>\n",
      "<re.Match object; span=(50, 51), match='8'>\n",
      "<re.Match object; span=(51, 52), match='a'>\n",
      "<re.Match object; span=(52, 53), match='t'>\n",
      "<re.Match object; span=(53, 54), match=','>\n",
      "<re.Match object; span=(54, 55), match=' '>\n",
      "<re.Match object; span=(55, 56), match='a'>\n",
      "<re.Match object; span=(56, 57), match='t'>\n",
      "<re.Match object; span=(57, 58), match='.'>\n"
     ]
    }
   ],
   "source": [
    "print(test_string_3, end=\"\\n\\n\")\n",
    "\n",
    "pattern = re.compile(r\".\")\n",
    "\n",
    "matches = re.finditer(pattern, test_string_3)\n",
    "\n",
    "for match in matches:\n",
    "\tprint(match)"
   ]
  },
  {
   "cell_type": "markdown",
   "id": "9286a07b-255b-4e1a-a199-737075998d06",
   "metadata": {},
   "source": [
    "### 4.2 carat (^)"
   ]
  },
  {
   "cell_type": "code",
   "execution_count": 30,
   "id": "c37fdfd6-0d34-4efd-a5a7-32da44d00253",
   "metadata": {},
   "outputs": [
    {
     "name": "stdout",
     "output_type": "stream",
     "text": [
      "Hello World!\n",
      "This is a test.\n",
      "Hello again!\n",
      "Python is fun.\n",
      "Hello Python\n",
      "\n",
      "<re.Match object; span=(0, 5), match='Hello'>\n",
      "<re.Match object; span=(29, 34), match='Hello'>\n",
      "<re.Match object; span=(57, 62), match='Hello'>\n"
     ]
    }
   ],
   "source": [
    "print(text, end=\"\\n\\n\")\n",
    "\n",
    "pattern = re.compile(r\"Hello\")\n",
    "\n",
    "matches = re.finditer(pattern, text)\n",
    "\n",
    "for match in matches:\n",
    "\tprint(match)"
   ]
  },
  {
   "cell_type": "code",
   "execution_count": 31,
   "id": "e19de460-8ae7-46a3-8857-5cf7c8ce6cb1",
   "metadata": {},
   "outputs": [
    {
     "name": "stdout",
     "output_type": "stream",
     "text": [
      "Hello World!\n",
      "This is a test.\n",
      "Hello again!\n",
      "Python is fun.\n",
      "Hello Python\n",
      "\n",
      "<re.Match object; span=(0, 5), match='Hello'>\n"
     ]
    }
   ],
   "source": [
    "print(text, end=\"\\n\\n\")\n",
    "\n",
    "pattern = re.compile(r\"^Hello\")\n",
    "\n",
    "matches = re.finditer(pattern, text)\n",
    "\n",
    "for match in matches:\n",
    "\tprint(match)"
   ]
  },
  {
   "cell_type": "markdown",
   "id": "f0abb8ab-3282-4f60-85bd-99b55f9aa679",
   "metadata": {},
   "source": [
    "### 4.3 dollar ($)"
   ]
  },
  {
   "cell_type": "code",
   "execution_count": 32,
   "id": "2a408815-8996-4de1-85c0-a68c48dae7f0",
   "metadata": {},
   "outputs": [
    {
     "name": "stdout",
     "output_type": "stream",
     "text": [
      "Hello World!\n",
      "This is a test.\n",
      "Hello again!\n",
      "Python is fun.\n",
      "Hello Python\n",
      "\n",
      "<re.Match object; span=(42, 48), match='Python'>\n",
      "<re.Match object; span=(63, 69), match='Python'>\n"
     ]
    }
   ],
   "source": [
    "print(text, end=\"\\n\\n\")\n",
    "\n",
    "pattern = re.compile(r\"Python\")\n",
    "\n",
    "matches = re.finditer(pattern, text)\n",
    "\n",
    "for match in matches:\n",
    "\tprint(match)"
   ]
  },
  {
   "cell_type": "code",
   "execution_count": 33,
   "id": "c5381927-36f0-4b17-954b-bcc23b83cf86",
   "metadata": {},
   "outputs": [
    {
     "name": "stdout",
     "output_type": "stream",
     "text": [
      "Hello World!\n",
      "This is a test.\n",
      "Hello again!\n",
      "Python is fun.\n",
      "Hello Python\n",
      "\n",
      "<re.Match object; span=(63, 69), match='Python'>\n"
     ]
    }
   ],
   "source": [
    "print(text, end=\"\\n\\n\")\n",
    "\n",
    "pattern = re.compile(r\"Python$\")\n",
    "\n",
    "matches = re.finditer(pattern, text)\n",
    "\n",
    "for match in matches:\n",
    "\tprint(match)"
   ]
  },
  {
   "cell_type": "markdown",
   "id": "87a000fe-2316-4fe4-8786-ee1ccdb9405c",
   "metadata": {},
   "source": [
    "## 5. Character Sets"
   ]
  },
  {
   "cell_type": "markdown",
   "id": "83a35f6c-47d2-4e8e-a890-4888d8b5f8d1",
   "metadata": {},
   "source": [
    "### 5.1 Custom Character Sets"
   ]
  },
  {
   "cell_type": "code",
   "execution_count": 34,
   "id": "8485df79-4eab-4dd0-9d3a-849a18e342da",
   "metadata": {},
   "outputs": [],
   "source": [
    "test_string = \"123abc.4567XYZ$89abc123  def%GHIxyz.ABC#i.\""
   ]
  },
  {
   "cell_type": "markdown",
   "id": "3fd3fd10-8a39-4e9c-8b8b-738df53d247f",
   "metadata": {},
   "source": [
    "#### 5.1.1 Literal Characters"
   ]
  },
  {
   "cell_type": "code",
   "execution_count": 35,
   "id": "f32857ec-da18-4b52-9999-465ba132df39",
   "metadata": {},
   "outputs": [],
   "source": [
    "# vowels"
   ]
  },
  {
   "cell_type": "code",
   "execution_count": 36,
   "id": "462ad3ab-b499-4884-a8dd-70900c282edb",
   "metadata": {},
   "outputs": [
    {
     "name": "stdout",
     "output_type": "stream",
     "text": [
      "123abc.4567XYZ$89abc123  def%GHIxyz.ABC#i.\n",
      "\n",
      "<re.Match object; span=(3, 4), match='a'>\n",
      "<re.Match object; span=(17, 18), match='a'>\n",
      "<re.Match object; span=(26, 27), match='e'>\n",
      "<re.Match object; span=(40, 41), match='i'>\n"
     ]
    }
   ],
   "source": [
    "print(test_string, end=\"\\n\\n\")\n",
    "\n",
    "pattern  = re.compile(r\"[aeiou]\")\n",
    "\n",
    "matches = re.finditer(pattern, test_string)\n",
    "\n",
    "for match in matches:\n",
    "\tprint(match)"
   ]
  },
  {
   "cell_type": "code",
   "execution_count": 37,
   "id": "ab978c00",
   "metadata": {},
   "outputs": [
    {
     "name": "stdout",
     "output_type": "stream",
     "text": [
      "123abc.4567XYZ$89abc123  def%GHIxyz.ABC#i.\n",
      "\n",
      "<re.Match object; span=(3, 4), match='a'>\n",
      "<re.Match object; span=(17, 18), match='a'>\n",
      "<re.Match object; span=(26, 27), match='e'>\n",
      "<re.Match object; span=(31, 32), match='I'>\n",
      "<re.Match object; span=(36, 37), match='A'>\n",
      "<re.Match object; span=(40, 41), match='i'>\n"
     ]
    }
   ],
   "source": [
    "print(test_string, end=\"\\n\\n\")\n",
    "\n",
    "pattern  = re.compile(r\"[aeiouAEIOU]\")\n",
    "\n",
    "matches = re.finditer(pattern, test_string)\n",
    "\n",
    "for match in matches:\n",
    "\tprint(match)"
   ]
  },
  {
   "cell_type": "code",
   "execution_count": 38,
   "id": "eae694c6-2c61-431b-8984-997784af424a",
   "metadata": {},
   "outputs": [
    {
     "name": "stdout",
     "output_type": "stream",
     "text": [
      "123abc.4567XYZ$89abc123  def%GHIxyz.ABC#i.\n",
      "\n"
     ]
    },
    {
     "data": {
      "text/plain": [
       "['a', 'a', 'e', 'I', 'A', 'i']"
      ]
     },
     "execution_count": 38,
     "metadata": {},
     "output_type": "execute_result"
    }
   ],
   "source": [
    "print(test_string, end=\"\\n\\n\")\n",
    "\n",
    "pattern  = re.compile(r\"[aeiouAEIOU]\")\n",
    "\n",
    "matches = re.findall(pattern, test_string)\n",
    "matches"
   ]
  },
  {
   "cell_type": "code",
   "execution_count": 39,
   "id": "868afd78-8484-4799-9c49-de86325f586b",
   "metadata": {},
   "outputs": [],
   "source": [
    "# digits"
   ]
  },
  {
   "cell_type": "code",
   "execution_count": 40,
   "id": "086f4c1c-12b2-4e10-88c9-2722d13df9df",
   "metadata": {},
   "outputs": [
    {
     "name": "stdout",
     "output_type": "stream",
     "text": [
      "123abc.4567XYZ$89abc123  def%GHIxyz.ABC#i.\n",
      "\n",
      "<re.Match object; span=(0, 1), match='1'>\n",
      "<re.Match object; span=(1, 2), match='2'>\n",
      "<re.Match object; span=(2, 3), match='3'>\n",
      "<re.Match object; span=(7, 8), match='4'>\n",
      "<re.Match object; span=(8, 9), match='5'>\n",
      "<re.Match object; span=(9, 10), match='6'>\n",
      "<re.Match object; span=(10, 11), match='7'>\n",
      "<re.Match object; span=(15, 16), match='8'>\n",
      "<re.Match object; span=(16, 17), match='9'>\n",
      "<re.Match object; span=(20, 21), match='1'>\n",
      "<re.Match object; span=(21, 22), match='2'>\n",
      "<re.Match object; span=(22, 23), match='3'>\n"
     ]
    }
   ],
   "source": [
    "print(test_string, end=\"\\n\\n\")\n",
    "\n",
    "pattern  = re.compile(r\"[0123456789]\")\n",
    "\n",
    "matches = re.finditer(pattern, test_string)\n",
    "\n",
    "for match in matches:\n",
    "\tprint(match)"
   ]
  },
  {
   "cell_type": "code",
   "execution_count": 41,
   "id": "edf85a13-1280-4500-9ef6-b788c05a3228",
   "metadata": {},
   "outputs": [],
   "source": [
    "# even numbers"
   ]
  },
  {
   "cell_type": "code",
   "execution_count": 42,
   "id": "dda286d9-9fd1-47c6-922a-1f187857df1c",
   "metadata": {},
   "outputs": [
    {
     "name": "stdout",
     "output_type": "stream",
     "text": [
      "123abc.4567XYZ$89abc123  def%GHIxyz.ABC#i.\n",
      "\n",
      "<re.Match object; span=(1, 2), match='2'>\n",
      "<re.Match object; span=(7, 8), match='4'>\n",
      "<re.Match object; span=(9, 10), match='6'>\n",
      "<re.Match object; span=(15, 16), match='8'>\n",
      "<re.Match object; span=(21, 22), match='2'>\n"
     ]
    }
   ],
   "source": [
    "print(test_string, end=\"\\n\\n\")\n",
    "\n",
    "pattern  = re.compile(r\"[2468]\")\n",
    "\n",
    "matches = re.finditer(pattern, test_string)\n",
    "\n",
    "for match in matches:\n",
    "\tprint(match)"
   ]
  },
  {
   "cell_type": "markdown",
   "id": "5a2f5f2c-a400-4159-af3c-a6e562d5dcb9",
   "metadata": {},
   "source": [
    "#### 5.1.2 Character Ranges"
   ]
  },
  {
   "cell_type": "code",
   "execution_count": 43,
   "id": "e095ea0f-852e-4038-96fc-4afcd32c82ae",
   "metadata": {},
   "outputs": [],
   "source": [
    "# digits"
   ]
  },
  {
   "cell_type": "code",
   "execution_count": 44,
   "id": "bd12457f-a68b-447f-9a52-c30e7e139f93",
   "metadata": {},
   "outputs": [
    {
     "name": "stdout",
     "output_type": "stream",
     "text": [
      "123abc.4567XYZ$89abc123  def%GHIxyz.ABC#i.\n",
      "\n",
      "<re.Match object; span=(0, 1), match='1'>\n",
      "<re.Match object; span=(1, 2), match='2'>\n",
      "<re.Match object; span=(2, 3), match='3'>\n",
      "<re.Match object; span=(7, 8), match='4'>\n",
      "<re.Match object; span=(8, 9), match='5'>\n",
      "<re.Match object; span=(9, 10), match='6'>\n",
      "<re.Match object; span=(10, 11), match='7'>\n",
      "<re.Match object; span=(15, 16), match='8'>\n",
      "<re.Match object; span=(16, 17), match='9'>\n",
      "<re.Match object; span=(20, 21), match='1'>\n",
      "<re.Match object; span=(21, 22), match='2'>\n",
      "<re.Match object; span=(22, 23), match='3'>\n"
     ]
    }
   ],
   "source": [
    "print(test_string, end=\"\\n\\n\")\n",
    "\n",
    "pattern  = re.compile(r\"[0-9]\")\n",
    "\n",
    "matches = re.finditer(pattern, test_string)\n",
    "\n",
    "for match in matches:\n",
    "\tprint(match)"
   ]
  },
  {
   "cell_type": "code",
   "execution_count": 45,
   "id": "297034f7-732a-4076-b80c-7ee341261d09",
   "metadata": {},
   "outputs": [],
   "source": [
    "# alphabets"
   ]
  },
  {
   "cell_type": "code",
   "execution_count": 46,
   "id": "a0774765-4ba3-450e-84c3-2f1364d4dbfe",
   "metadata": {},
   "outputs": [
    {
     "name": "stdout",
     "output_type": "stream",
     "text": [
      "123abc.4567XYZ$89abc123  def%GHIxyz.ABC#i.\n",
      "\n",
      "<re.Match object; span=(3, 4), match='a'>\n",
      "<re.Match object; span=(4, 5), match='b'>\n",
      "<re.Match object; span=(5, 6), match='c'>\n",
      "<re.Match object; span=(11, 12), match='X'>\n",
      "<re.Match object; span=(12, 13), match='Y'>\n",
      "<re.Match object; span=(13, 14), match='Z'>\n",
      "<re.Match object; span=(17, 18), match='a'>\n",
      "<re.Match object; span=(18, 19), match='b'>\n",
      "<re.Match object; span=(19, 20), match='c'>\n",
      "<re.Match object; span=(25, 26), match='d'>\n",
      "<re.Match object; span=(26, 27), match='e'>\n",
      "<re.Match object; span=(27, 28), match='f'>\n",
      "<re.Match object; span=(29, 30), match='G'>\n",
      "<re.Match object; span=(30, 31), match='H'>\n",
      "<re.Match object; span=(31, 32), match='I'>\n",
      "<re.Match object; span=(32, 33), match='x'>\n",
      "<re.Match object; span=(33, 34), match='y'>\n",
      "<re.Match object; span=(34, 35), match='z'>\n",
      "<re.Match object; span=(36, 37), match='A'>\n",
      "<re.Match object; span=(37, 38), match='B'>\n",
      "<re.Match object; span=(38, 39), match='C'>\n",
      "<re.Match object; span=(40, 41), match='i'>\n"
     ]
    }
   ],
   "source": [
    "print(test_string, end=\"\\n\\n\")\n",
    "\n",
    "pattern  = re.compile(r\"[a-zA-Z]\")\n",
    "\n",
    "matches = re.finditer(pattern, test_string)\n",
    "\n",
    "for match in matches:\n",
    "\tprint(match)"
   ]
  },
  {
   "cell_type": "code",
   "execution_count": 47,
   "id": "fe6b1eb2-5a7a-4c91-96df-c911272296f9",
   "metadata": {},
   "outputs": [],
   "source": [
    "# hexadecimal characters"
   ]
  },
  {
   "cell_type": "code",
   "execution_count": 48,
   "id": "36ce771c-bcf0-4c21-9d71-4987b0047e2d",
   "metadata": {},
   "outputs": [
    {
     "name": "stdout",
     "output_type": "stream",
     "text": [
      "123abc.4567XYZ$89abc123  def%GHIxyz.ABC#i.\n",
      "\n",
      "<re.Match object; span=(0, 1), match='1'>\n",
      "<re.Match object; span=(1, 2), match='2'>\n",
      "<re.Match object; span=(2, 3), match='3'>\n",
      "<re.Match object; span=(3, 4), match='a'>\n",
      "<re.Match object; span=(4, 5), match='b'>\n",
      "<re.Match object; span=(5, 6), match='c'>\n",
      "<re.Match object; span=(7, 8), match='4'>\n",
      "<re.Match object; span=(8, 9), match='5'>\n",
      "<re.Match object; span=(9, 10), match='6'>\n",
      "<re.Match object; span=(10, 11), match='7'>\n",
      "<re.Match object; span=(15, 16), match='8'>\n",
      "<re.Match object; span=(16, 17), match='9'>\n",
      "<re.Match object; span=(17, 18), match='a'>\n",
      "<re.Match object; span=(18, 19), match='b'>\n",
      "<re.Match object; span=(19, 20), match='c'>\n",
      "<re.Match object; span=(20, 21), match='1'>\n",
      "<re.Match object; span=(21, 22), match='2'>\n",
      "<re.Match object; span=(22, 23), match='3'>\n",
      "<re.Match object; span=(25, 26), match='d'>\n",
      "<re.Match object; span=(26, 27), match='e'>\n",
      "<re.Match object; span=(27, 28), match='f'>\n",
      "<re.Match object; span=(36, 37), match='A'>\n",
      "<re.Match object; span=(37, 38), match='B'>\n",
      "<re.Match object; span=(38, 39), match='C'>\n"
     ]
    }
   ],
   "source": [
    "print(test_string, end=\"\\n\\n\")\n",
    "\n",
    "pattern  = re.compile(r\"[0-9a-fA-F]\")\n",
    "\n",
    "matches = re.finditer(pattern, test_string)\n",
    "\n",
    "for match in matches:\n",
    "\tprint(match)"
   ]
  },
  {
   "cell_type": "markdown",
   "id": "b5f4ee03-a778-447e-abc1-b910255752e6",
   "metadata": {},
   "source": [
    "#### 5.1.3 Character Negation"
   ]
  },
  {
   "cell_type": "code",
   "execution_count": 49,
   "id": "da86efd0-608c-480e-a30f-300440ac69fc",
   "metadata": {},
   "outputs": [],
   "source": [
    "# consonents"
   ]
  },
  {
   "cell_type": "code",
   "execution_count": 50,
   "id": "a216c731-11a3-45aa-a2c2-8d9fe2f781a1",
   "metadata": {},
   "outputs": [
    {
     "name": "stdout",
     "output_type": "stream",
     "text": [
      "123abc.4567XYZ$89abc123  def%GHIxyz.ABC#i.\n",
      "\n",
      "<re.Match object; span=(4, 5), match='b'>\n",
      "<re.Match object; span=(5, 6), match='c'>\n",
      "<re.Match object; span=(11, 12), match='X'>\n",
      "<re.Match object; span=(12, 13), match='Y'>\n",
      "<re.Match object; span=(13, 14), match='Z'>\n",
      "<re.Match object; span=(18, 19), match='b'>\n",
      "<re.Match object; span=(19, 20), match='c'>\n",
      "<re.Match object; span=(25, 26), match='d'>\n",
      "<re.Match object; span=(27, 28), match='f'>\n",
      "<re.Match object; span=(29, 30), match='G'>\n",
      "<re.Match object; span=(30, 31), match='H'>\n",
      "<re.Match object; span=(32, 33), match='x'>\n",
      "<re.Match object; span=(33, 34), match='y'>\n",
      "<re.Match object; span=(34, 35), match='z'>\n",
      "<re.Match object; span=(37, 38), match='B'>\n",
      "<re.Match object; span=(38, 39), match='C'>\n"
     ]
    }
   ],
   "source": [
    "print(test_string, end=\"\\n\\n\")\n",
    "\n",
    "pattern  = re.compile(r\"[^aeiouAEIOU0-9$%#. ]\")\n",
    "\n",
    "matches = re.finditer(pattern, test_string)\n",
    "\n",
    "for match in matches:\n",
    "\tprint(match)"
   ]
  },
  {
   "cell_type": "code",
   "execution_count": 51,
   "id": "6d6e695c-dc0b-48b1-8b44-fee08ab076e5",
   "metadata": {},
   "outputs": [],
   "source": [
    "# not even numbers"
   ]
  },
  {
   "cell_type": "code",
   "execution_count": 52,
   "id": "a5aa9390-b373-46f0-a3a6-3b2fb7963fc2",
   "metadata": {},
   "outputs": [
    {
     "name": "stdout",
     "output_type": "stream",
     "text": [
      "123abc.4567XYZ$89abc123  def%GHIxyz.ABC#i.\n",
      "\n",
      "<re.Match object; span=(0, 1), match='1'>\n",
      "<re.Match object; span=(2, 3), match='3'>\n",
      "<re.Match object; span=(3, 4), match='a'>\n",
      "<re.Match object; span=(4, 5), match='b'>\n",
      "<re.Match object; span=(5, 6), match='c'>\n",
      "<re.Match object; span=(6, 7), match='.'>\n",
      "<re.Match object; span=(8, 9), match='5'>\n",
      "<re.Match object; span=(10, 11), match='7'>\n",
      "<re.Match object; span=(11, 12), match='X'>\n",
      "<re.Match object; span=(12, 13), match='Y'>\n",
      "<re.Match object; span=(13, 14), match='Z'>\n",
      "<re.Match object; span=(14, 15), match='$'>\n",
      "<re.Match object; span=(16, 17), match='9'>\n",
      "<re.Match object; span=(17, 18), match='a'>\n",
      "<re.Match object; span=(18, 19), match='b'>\n",
      "<re.Match object; span=(19, 20), match='c'>\n",
      "<re.Match object; span=(20, 21), match='1'>\n",
      "<re.Match object; span=(22, 23), match='3'>\n",
      "<re.Match object; span=(23, 24), match=' '>\n",
      "<re.Match object; span=(24, 25), match=' '>\n",
      "<re.Match object; span=(25, 26), match='d'>\n",
      "<re.Match object; span=(26, 27), match='e'>\n",
      "<re.Match object; span=(27, 28), match='f'>\n",
      "<re.Match object; span=(28, 29), match='%'>\n",
      "<re.Match object; span=(29, 30), match='G'>\n",
      "<re.Match object; span=(30, 31), match='H'>\n",
      "<re.Match object; span=(31, 32), match='I'>\n",
      "<re.Match object; span=(32, 33), match='x'>\n",
      "<re.Match object; span=(33, 34), match='y'>\n",
      "<re.Match object; span=(34, 35), match='z'>\n",
      "<re.Match object; span=(35, 36), match='.'>\n",
      "<re.Match object; span=(36, 37), match='A'>\n",
      "<re.Match object; span=(37, 38), match='B'>\n",
      "<re.Match object; span=(38, 39), match='C'>\n",
      "<re.Match object; span=(39, 40), match='#'>\n",
      "<re.Match object; span=(40, 41), match='i'>\n",
      "<re.Match object; span=(41, 42), match='.'>\n"
     ]
    }
   ],
   "source": [
    "print(test_string, end=\"\\n\\n\")\n",
    "\n",
    "pattern  = re.compile(r\"[^2468]\")\n",
    "\n",
    "matches = re.finditer(pattern, test_string)\n",
    "\n",
    "for match in matches:\n",
    "\tprint(match)"
   ]
  },
  {
   "cell_type": "code",
   "execution_count": 53,
   "id": "e893bf30-d375-40bc-9d24-308a4f7b0130",
   "metadata": {},
   "outputs": [],
   "source": [
    "# special characters"
   ]
  },
  {
   "cell_type": "code",
   "execution_count": 54,
   "id": "54b0a1c7-66b9-44c9-bd3e-bf7a630c0def",
   "metadata": {},
   "outputs": [
    {
     "name": "stdout",
     "output_type": "stream",
     "text": [
      "123abc.4567XYZ$89abc123  def%GHIxyz.ABC#i.\n",
      "\n",
      "<re.Match object; span=(14, 15), match='$'>\n",
      "<re.Match object; span=(28, 29), match='%'>\n",
      "<re.Match object; span=(39, 40), match='#'>\n"
     ]
    }
   ],
   "source": [
    "print(test_string, end=\"\\n\\n\")\n",
    "\n",
    "pattern  = re.compile(r\"[^a-zA-Z0-9. ]\")\n",
    "\n",
    "matches = re.finditer(pattern, test_string)\n",
    "\n",
    "for match in matches:\n",
    "\tprint(match)"
   ]
  },
  {
   "cell_type": "markdown",
   "id": "d124124d-2d2e-44ed-8137-138b18276cf8",
   "metadata": {},
   "source": [
    "### 5.2 Pre-defined Character Sets"
   ]
  },
  {
   "cell_type": "code",
   "execution_count": 55,
   "id": "2328f091-c3c4-427b-9fb5-b0ff604a2cb3",
   "metadata": {},
   "outputs": [],
   "source": [
    "test_string_1 = \"123abc.4567XYZ$89abc123 def%GHIxyz .ABC#i.\"\n",
    "\n",
    "test_string_2 = \"123abc.4567\\nXYZ$89abc123 def%GHI\\nxyz .ABC#i.\"\n",
    "\n",
    "test_string_3 = 'heyhello 123_ heyho hohey'"
   ]
  },
  {
   "cell_type": "code",
   "execution_count": 56,
   "id": "c34e32b8-3285-4ef0-9b6b-b921b36456f4",
   "metadata": {},
   "outputs": [],
   "source": [
    "# digits"
   ]
  },
  {
   "cell_type": "code",
   "execution_count": 57,
   "id": "8ae6e0ba-10fe-478e-91cb-7e312aea25a4",
   "metadata": {},
   "outputs": [
    {
     "name": "stdout",
     "output_type": "stream",
     "text": [
      "123abc.4567XYZ$89abc123 def%GHIxyz .ABC#i.\n",
      "\n",
      "<re.Match object; span=(0, 1), match='1'>\n",
      "<re.Match object; span=(1, 2), match='2'>\n",
      "<re.Match object; span=(2, 3), match='3'>\n",
      "<re.Match object; span=(7, 8), match='4'>\n",
      "<re.Match object; span=(8, 9), match='5'>\n",
      "<re.Match object; span=(9, 10), match='6'>\n",
      "<re.Match object; span=(10, 11), match='7'>\n",
      "<re.Match object; span=(15, 16), match='8'>\n",
      "<re.Match object; span=(16, 17), match='9'>\n",
      "<re.Match object; span=(20, 21), match='1'>\n",
      "<re.Match object; span=(21, 22), match='2'>\n",
      "<re.Match object; span=(22, 23), match='3'>\n"
     ]
    }
   ],
   "source": [
    "print(test_string_1, end=\"\\n\\n\")\n",
    "\n",
    "pattern  = re.compile(r\"[\\d]\")\n",
    "\n",
    "matches = re.finditer(pattern, test_string_1)\n",
    "\n",
    "for match in matches:\n",
    "\tprint(match)"
   ]
  },
  {
   "cell_type": "code",
   "execution_count": 58,
   "id": "1cfd1213-46cb-471a-ac06-93b417e0e2c8",
   "metadata": {},
   "outputs": [],
   "source": [
    "# not digits"
   ]
  },
  {
   "cell_type": "code",
   "execution_count": 59,
   "id": "c7b26bb4-9db9-4a55-a007-85c1c42fbf10",
   "metadata": {},
   "outputs": [
    {
     "name": "stdout",
     "output_type": "stream",
     "text": [
      "123abc.4567XYZ$89abc123 def%GHIxyz .ABC#i.\n",
      "\n",
      "<re.Match object; span=(3, 4), match='a'>\n",
      "<re.Match object; span=(4, 5), match='b'>\n",
      "<re.Match object; span=(5, 6), match='c'>\n",
      "<re.Match object; span=(6, 7), match='.'>\n",
      "<re.Match object; span=(11, 12), match='X'>\n",
      "<re.Match object; span=(12, 13), match='Y'>\n",
      "<re.Match object; span=(13, 14), match='Z'>\n",
      "<re.Match object; span=(14, 15), match='$'>\n",
      "<re.Match object; span=(17, 18), match='a'>\n",
      "<re.Match object; span=(18, 19), match='b'>\n",
      "<re.Match object; span=(19, 20), match='c'>\n",
      "<re.Match object; span=(23, 24), match=' '>\n",
      "<re.Match object; span=(24, 25), match='d'>\n",
      "<re.Match object; span=(25, 26), match='e'>\n",
      "<re.Match object; span=(26, 27), match='f'>\n",
      "<re.Match object; span=(27, 28), match='%'>\n",
      "<re.Match object; span=(28, 29), match='G'>\n",
      "<re.Match object; span=(29, 30), match='H'>\n",
      "<re.Match object; span=(30, 31), match='I'>\n",
      "<re.Match object; span=(31, 32), match='x'>\n",
      "<re.Match object; span=(32, 33), match='y'>\n",
      "<re.Match object; span=(33, 34), match='z'>\n",
      "<re.Match object; span=(34, 35), match=' '>\n",
      "<re.Match object; span=(35, 36), match='.'>\n",
      "<re.Match object; span=(36, 37), match='A'>\n",
      "<re.Match object; span=(37, 38), match='B'>\n",
      "<re.Match object; span=(38, 39), match='C'>\n",
      "<re.Match object; span=(39, 40), match='#'>\n",
      "<re.Match object; span=(40, 41), match='i'>\n",
      "<re.Match object; span=(41, 42), match='.'>\n"
     ]
    }
   ],
   "source": [
    "print(test_string_1, end=\"\\n\\n\")\n",
    "\n",
    "pattern  = re.compile(r\"[\\D]\")\n",
    "\n",
    "matches = re.finditer(pattern, test_string_1)\n",
    "\n",
    "for match in matches:\n",
    "\tprint(match)"
   ]
  },
  {
   "cell_type": "code",
   "execution_count": 60,
   "id": "305d1893-9a64-41f6-bad4-85a349616ae2",
   "metadata": {},
   "outputs": [],
   "source": [
    "# whitespaces"
   ]
  },
  {
   "cell_type": "code",
   "execution_count": 61,
   "id": "49fd1b91-bf83-4b13-9108-57cf6af443c5",
   "metadata": {},
   "outputs": [
    {
     "name": "stdout",
     "output_type": "stream",
     "text": [
      "123abc.4567\n",
      "XYZ$89abc123 def%GHI\n",
      "xyz .ABC#i.\n",
      "\n",
      "<re.Match object; span=(11, 12), match='\\n'>\n",
      "<re.Match object; span=(24, 25), match=' '>\n",
      "<re.Match object; span=(32, 33), match='\\n'>\n",
      "<re.Match object; span=(36, 37), match=' '>\n"
     ]
    }
   ],
   "source": [
    "print(test_string_2, end=\"\\n\\n\")\n",
    "\n",
    "pattern  = re.compile(r\"[\\s]\")\n",
    "\n",
    "matches = re.finditer(pattern, test_string_2)\n",
    "\n",
    "for match in matches:\n",
    "\tprint(match)"
   ]
  },
  {
   "cell_type": "code",
   "execution_count": 62,
   "id": "a58157f2-f50b-4be4-8f5d-66e3aae11738",
   "metadata": {},
   "outputs": [],
   "source": [
    "# not whitespaces"
   ]
  },
  {
   "cell_type": "code",
   "execution_count": 63,
   "id": "77449776-5538-4480-8cc6-2e2bc38055a0",
   "metadata": {},
   "outputs": [
    {
     "name": "stdout",
     "output_type": "stream",
     "text": [
      "123abc.4567\n",
      "XYZ$89abc123 def%GHI\n",
      "xyz .ABC#i.\n",
      "\n",
      "<re.Match object; span=(0, 1), match='1'>\n",
      "<re.Match object; span=(1, 2), match='2'>\n",
      "<re.Match object; span=(2, 3), match='3'>\n",
      "<re.Match object; span=(3, 4), match='a'>\n",
      "<re.Match object; span=(4, 5), match='b'>\n",
      "<re.Match object; span=(5, 6), match='c'>\n",
      "<re.Match object; span=(6, 7), match='.'>\n",
      "<re.Match object; span=(7, 8), match='4'>\n",
      "<re.Match object; span=(8, 9), match='5'>\n",
      "<re.Match object; span=(9, 10), match='6'>\n",
      "<re.Match object; span=(10, 11), match='7'>\n",
      "<re.Match object; span=(12, 13), match='X'>\n",
      "<re.Match object; span=(13, 14), match='Y'>\n",
      "<re.Match object; span=(14, 15), match='Z'>\n",
      "<re.Match object; span=(15, 16), match='$'>\n",
      "<re.Match object; span=(16, 17), match='8'>\n",
      "<re.Match object; span=(17, 18), match='9'>\n",
      "<re.Match object; span=(18, 19), match='a'>\n",
      "<re.Match object; span=(19, 20), match='b'>\n",
      "<re.Match object; span=(20, 21), match='c'>\n",
      "<re.Match object; span=(21, 22), match='1'>\n",
      "<re.Match object; span=(22, 23), match='2'>\n",
      "<re.Match object; span=(23, 24), match='3'>\n",
      "<re.Match object; span=(25, 26), match='d'>\n",
      "<re.Match object; span=(26, 27), match='e'>\n",
      "<re.Match object; span=(27, 28), match='f'>\n",
      "<re.Match object; span=(28, 29), match='%'>\n",
      "<re.Match object; span=(29, 30), match='G'>\n",
      "<re.Match object; span=(30, 31), match='H'>\n",
      "<re.Match object; span=(31, 32), match='I'>\n",
      "<re.Match object; span=(33, 34), match='x'>\n",
      "<re.Match object; span=(34, 35), match='y'>\n",
      "<re.Match object; span=(35, 36), match='z'>\n",
      "<re.Match object; span=(37, 38), match='.'>\n",
      "<re.Match object; span=(38, 39), match='A'>\n",
      "<re.Match object; span=(39, 40), match='B'>\n",
      "<re.Match object; span=(40, 41), match='C'>\n",
      "<re.Match object; span=(41, 42), match='#'>\n",
      "<re.Match object; span=(42, 43), match='i'>\n",
      "<re.Match object; span=(43, 44), match='.'>\n"
     ]
    }
   ],
   "source": [
    "print(test_string_2, end=\"\\n\\n\")\n",
    "\n",
    "pattern  = re.compile(r\"[\\S]\")\n",
    "\n",
    "matches = re.finditer(pattern, test_string_2)\n",
    "\n",
    "for match in matches:\n",
    "\tprint(match)"
   ]
  },
  {
   "cell_type": "code",
   "execution_count": 64,
   "id": "2543b961-5db6-420f-a87e-4666d653886c",
   "metadata": {},
   "outputs": [],
   "source": [
    "# alphanumeric"
   ]
  },
  {
   "cell_type": "code",
   "execution_count": 65,
   "id": "a3bdfe21-917c-4bc4-bee6-bb5e60c89365",
   "metadata": {},
   "outputs": [
    {
     "name": "stdout",
     "output_type": "stream",
     "text": [
      "123abc.4567\n",
      "XYZ$89abc123 def%GHI\n",
      "xyz .ABC#i.\n",
      "\n",
      "<re.Match object; span=(0, 1), match='1'>\n",
      "<re.Match object; span=(1, 2), match='2'>\n",
      "<re.Match object; span=(2, 3), match='3'>\n",
      "<re.Match object; span=(3, 4), match='a'>\n",
      "<re.Match object; span=(4, 5), match='b'>\n",
      "<re.Match object; span=(5, 6), match='c'>\n",
      "<re.Match object; span=(7, 8), match='4'>\n",
      "<re.Match object; span=(8, 9), match='5'>\n",
      "<re.Match object; span=(9, 10), match='6'>\n",
      "<re.Match object; span=(10, 11), match='7'>\n",
      "<re.Match object; span=(12, 13), match='X'>\n",
      "<re.Match object; span=(13, 14), match='Y'>\n",
      "<re.Match object; span=(14, 15), match='Z'>\n",
      "<re.Match object; span=(16, 17), match='8'>\n",
      "<re.Match object; span=(17, 18), match='9'>\n",
      "<re.Match object; span=(18, 19), match='a'>\n",
      "<re.Match object; span=(19, 20), match='b'>\n",
      "<re.Match object; span=(20, 21), match='c'>\n",
      "<re.Match object; span=(21, 22), match='1'>\n",
      "<re.Match object; span=(22, 23), match='2'>\n",
      "<re.Match object; span=(23, 24), match='3'>\n",
      "<re.Match object; span=(25, 26), match='d'>\n",
      "<re.Match object; span=(26, 27), match='e'>\n",
      "<re.Match object; span=(27, 28), match='f'>\n",
      "<re.Match object; span=(29, 30), match='G'>\n",
      "<re.Match object; span=(30, 31), match='H'>\n",
      "<re.Match object; span=(31, 32), match='I'>\n",
      "<re.Match object; span=(33, 34), match='x'>\n",
      "<re.Match object; span=(34, 35), match='y'>\n",
      "<re.Match object; span=(35, 36), match='z'>\n",
      "<re.Match object; span=(38, 39), match='A'>\n",
      "<re.Match object; span=(39, 40), match='B'>\n",
      "<re.Match object; span=(40, 41), match='C'>\n",
      "<re.Match object; span=(42, 43), match='i'>\n"
     ]
    }
   ],
   "source": [
    "print(test_string_2, end=\"\\n\\n\")\n",
    "\n",
    "pattern  = re.compile(r\"[\\w]\")\n",
    "\n",
    "matches = re.finditer(pattern, test_string_2)\n",
    "\n",
    "for match in matches:\n",
    "\tprint(match)"
   ]
  },
  {
   "cell_type": "code",
   "execution_count": 66,
   "id": "34baa5d7-5ab9-48e4-8992-2cd277da1bad",
   "metadata": {},
   "outputs": [],
   "source": [
    "# not alphanumeric"
   ]
  },
  {
   "cell_type": "code",
   "execution_count": 67,
   "id": "733cb9fd-f78f-49df-aee5-5ccf5958831e",
   "metadata": {},
   "outputs": [
    {
     "name": "stdout",
     "output_type": "stream",
     "text": [
      "123abc.4567\n",
      "XYZ$89abc123 def%GHI\n",
      "xyz .ABC#i.\n",
      "\n",
      "<re.Match object; span=(6, 7), match='.'>\n",
      "<re.Match object; span=(11, 12), match='\\n'>\n",
      "<re.Match object; span=(15, 16), match='$'>\n",
      "<re.Match object; span=(24, 25), match=' '>\n",
      "<re.Match object; span=(28, 29), match='%'>\n",
      "<re.Match object; span=(32, 33), match='\\n'>\n",
      "<re.Match object; span=(36, 37), match=' '>\n",
      "<re.Match object; span=(37, 38), match='.'>\n",
      "<re.Match object; span=(41, 42), match='#'>\n",
      "<re.Match object; span=(43, 44), match='.'>\n"
     ]
    }
   ],
   "source": [
    "print(test_string_2, end=\"\\n\\n\")\n",
    "\n",
    "pattern  = re.compile(r\"[\\W]\")\n",
    "\n",
    "matches = re.finditer(pattern, test_string_2)\n",
    "\n",
    "for match in matches:\n",
    "\tprint(match)"
   ]
  },
  {
   "cell_type": "code",
   "execution_count": 68,
   "id": "115e9d50-0240-47d2-84ad-83129eefeb98",
   "metadata": {},
   "outputs": [],
   "source": [
    "# word boundary"
   ]
  },
  {
   "cell_type": "code",
   "execution_count": 69,
   "id": "08df0910-571b-433a-9575-0dfc1d13b653",
   "metadata": {},
   "outputs": [
    {
     "data": {
      "text/plain": [
       "'heyhello 123_ heyho hohey'"
      ]
     },
     "execution_count": 69,
     "metadata": {},
     "output_type": "execute_result"
    }
   ],
   "source": [
    "test_string_3"
   ]
  },
  {
   "cell_type": "code",
   "execution_count": 70,
   "id": "869193ac-02fc-40ad-91b0-41db2c084c8d",
   "metadata": {},
   "outputs": [
    {
     "name": "stdout",
     "output_type": "stream",
     "text": [
      "<re.Match object; span=(0, 3), match='hey'>\n",
      "<re.Match object; span=(14, 17), match='hey'>\n",
      "<re.Match object; span=(22, 25), match='hey'>\n"
     ]
    }
   ],
   "source": [
    "pattern = re.compile(r\"hey\")\n",
    "\n",
    "matches = re.finditer(pattern, test_string_3)\n",
    "\n",
    "for match in matches:\n",
    "\tprint(match)"
   ]
  },
  {
   "cell_type": "code",
   "execution_count": 71,
   "id": "cb155437",
   "metadata": {},
   "outputs": [
    {
     "name": "stdout",
     "output_type": "stream",
     "text": [
      "<re.Match object; span=(0, 3), match='hey'>\n",
      "<re.Match object; span=(14, 17), match='hey'>\n"
     ]
    }
   ],
   "source": [
    "pattern = re.compile(r\"\\bhey\")\n",
    "\n",
    "matches = re.finditer(pattern, test_string_3)\n",
    "\n",
    "for match in matches:\n",
    "\tprint(match)"
   ]
  },
  {
   "cell_type": "markdown",
   "id": "36f92bd1-6004-40d9-b686-0d5c8ad77fc3",
   "metadata": {},
   "source": [
    "## 6. Quantifiers"
   ]
  },
  {
   "cell_type": "code",
   "execution_count": 72,
   "id": "ca85397b-b01d-441c-b6e8-e27eec0745d6",
   "metadata": {},
   "outputs": [],
   "source": [
    "test_string_1 = \"no no noo nooo noooothing noo\"\n",
    "\n",
    "test_string_2 = \"The colour of the sky and the color of the ocean are different.\"\n",
    "\n",
    "test_string_3 = \"We can use either http or https to generate URLs.\"\n",
    "\n",
    "test_string_4 = \"aaXaaaXaaaaXaaaaaX\"\n",
    "\n",
    "test_string_5 = \"<div>First div</div><div>Second div</div>\""
   ]
  },
  {
   "cell_type": "markdown",
   "id": "28b487f5-b26f-4fcc-b1b1-e7ff77aabc36",
   "metadata": {},
   "source": [
    "### 6.1 Greedy"
   ]
  },
  {
   "cell_type": "code",
   "execution_count": 73,
   "id": "ce6c00d8-9102-459c-a82d-1524bfd085a3",
   "metadata": {},
   "outputs": [
    {
     "data": {
      "text/plain": [
       "'no no noo nooo noooothing noo'"
      ]
     },
     "execution_count": 73,
     "metadata": {},
     "output_type": "execute_result"
    }
   ],
   "source": [
    "test_string_1"
   ]
  },
  {
   "cell_type": "code",
   "execution_count": 74,
   "id": "3404b821-279f-4eec-948a-9a80524de8d6",
   "metadata": {},
   "outputs": [
    {
     "name": "stdout",
     "output_type": "stream",
     "text": [
      "<re.Match object; span=(0, 2), match='no'>\n",
      "<re.Match object; span=(3, 5), match='no'>\n",
      "<re.Match object; span=(6, 9), match='noo'>\n",
      "<re.Match object; span=(10, 14), match='nooo'>\n",
      "<re.Match object; span=(15, 20), match='noooo'>\n",
      "<re.Match object; span=(26, 29), match='noo'>\n"
     ]
    }
   ],
   "source": [
    "pattern = re.compile(r\"noo*\")\n",
    "\n",
    "matches = re.finditer(pattern, test_string_1)\n",
    "\n",
    "for match in matches:\n",
    "\tprint(match)"
   ]
  },
  {
   "cell_type": "code",
   "execution_count": 75,
   "id": "075bf4ed-07b1-4456-86da-1ae1cb3d1bc6",
   "metadata": {},
   "outputs": [
    {
     "name": "stdout",
     "output_type": "stream",
     "text": [
      "<re.Match object; span=(6, 9), match='noo'>\n",
      "<re.Match object; span=(10, 14), match='nooo'>\n",
      "<re.Match object; span=(15, 20), match='noooo'>\n",
      "<re.Match object; span=(26, 29), match='noo'>\n"
     ]
    }
   ],
   "source": [
    "pattern = re.compile(r\"noo+\")\n",
    "\n",
    "matches = re.finditer(pattern, test_string_1)\n",
    "\n",
    "for match in matches:\n",
    "\tprint(match)"
   ]
  },
  {
   "cell_type": "code",
   "execution_count": 76,
   "id": "60a3982e-535e-4640-a5e9-a13c38835bba",
   "metadata": {},
   "outputs": [
    {
     "name": "stdout",
     "output_type": "stream",
     "text": [
      "The colour of the sky and the color of the ocean are different.\n",
      "\n",
      "<re.Match object; span=(4, 10), match='colour'>\n",
      "<re.Match object; span=(30, 35), match='color'>\n"
     ]
    }
   ],
   "source": [
    "print(test_string_2, end=\"\\n\\n\")\n",
    "\n",
    "pattern = re.compile(r\"colou?r\") # colour, color\n",
    "\n",
    "matches = re.finditer(pattern, test_string_2)\n",
    "\n",
    "for match in matches:\n",
    "\tprint(match)"
   ]
  },
  {
   "cell_type": "code",
   "execution_count": 77,
   "id": "98804bee-302c-45b3-90c4-ac957fbae151",
   "metadata": {},
   "outputs": [
    {
     "name": "stdout",
     "output_type": "stream",
     "text": [
      "We can use either http or https to generate URLs.\n",
      "\n",
      "<re.Match object; span=(18, 22), match='http'>\n",
      "<re.Match object; span=(26, 31), match='https'>\n"
     ]
    }
   ],
   "source": [
    "print(test_string_3, end=\"\\n\\n\")\n",
    "\n",
    "pattern = re.compile(r\"https?\") # http, https\n",
    "\n",
    "matches = re.finditer(pattern, test_string_3)\n",
    "\n",
    "for match in matches:\n",
    "\tprint(match)"
   ]
  },
  {
   "cell_type": "code",
   "execution_count": 78,
   "id": "187de5d1-bd94-4771-8559-3229046f8242",
   "metadata": {},
   "outputs": [
    {
     "name": "stdout",
     "output_type": "stream",
     "text": [
      "aaXaaaXaaaaXaaaaaX\n",
      "\n",
      "<re.Match object; span=(3, 6), match='aaa'>\n",
      "<re.Match object; span=(7, 10), match='aaa'>\n",
      "<re.Match object; span=(12, 15), match='aaa'>\n"
     ]
    }
   ],
   "source": [
    "print(test_string_4, end=\"\\n\\n\")\n",
    "\n",
    "pattern = re.compile(r\"a{3}\")\n",
    "\n",
    "matches = re.finditer(pattern, test_string_4)\n",
    "\n",
    "for match in matches:\n",
    "\tprint(match)"
   ]
  },
  {
   "cell_type": "code",
   "execution_count": 79,
   "id": "05529fa1",
   "metadata": {},
   "outputs": [
    {
     "name": "stdout",
     "output_type": "stream",
     "text": [
      "aaXaaaXaaaaXaaaaaX\n",
      "\n",
      "<re.Match object; span=(0, 2), match='aa'>\n",
      "<re.Match object; span=(3, 6), match='aaa'>\n",
      "<re.Match object; span=(7, 11), match='aaaa'>\n",
      "<re.Match object; span=(12, 17), match='aaaaa'>\n"
     ]
    }
   ],
   "source": [
    "print(test_string_4, end=\"\\n\\n\")\n",
    "\n",
    "pattern = re.compile(r\"a{2,5}\")\n",
    "\n",
    "matches = re.finditer(pattern, test_string_4)\n",
    "\n",
    "for match in matches:\n",
    "\tprint(match)"
   ]
  },
  {
   "cell_type": "markdown",
   "id": "13753e49-279e-4d36-8e6c-0259cc719c25",
   "metadata": {},
   "source": [
    "### 6.2 Lazy"
   ]
  },
  {
   "cell_type": "code",
   "execution_count": 80,
   "id": "4556339e-d092-4ca6-b069-d2415fe5453f",
   "metadata": {},
   "outputs": [
    {
     "name": "stdout",
     "output_type": "stream",
     "text": [
      "no no noo nooo noooothing noo\n",
      "\n",
      "<re.Match object; span=(0, 2), match='no'>\n",
      "<re.Match object; span=(3, 5), match='no'>\n",
      "<re.Match object; span=(6, 8), match='no'>\n",
      "<re.Match object; span=(10, 12), match='no'>\n",
      "<re.Match object; span=(15, 17), match='no'>\n",
      "<re.Match object; span=(26, 28), match='no'>\n"
     ]
    }
   ],
   "source": [
    "print(test_string_1, end=\"\\n\\n\")\n",
    "\n",
    "pattern = re.compile(r\"noo*?\")\n",
    "\n",
    "matches = re.finditer(pattern, test_string_1)\n",
    "\n",
    "for match in matches:\n",
    "\tprint(match)"
   ]
  },
  {
   "cell_type": "code",
   "execution_count": 81,
   "id": "3d1a762a",
   "metadata": {},
   "outputs": [
    {
     "name": "stdout",
     "output_type": "stream",
     "text": [
      "no no noo nooo noooothing noo\n",
      "\n",
      "<re.Match object; span=(6, 9), match='noo'>\n",
      "<re.Match object; span=(10, 13), match='noo'>\n",
      "<re.Match object; span=(15, 18), match='noo'>\n",
      "<re.Match object; span=(26, 29), match='noo'>\n"
     ]
    }
   ],
   "source": [
    "print(test_string_1, end=\"\\n\\n\")\n",
    "\n",
    "pattern = re.compile(r\"noo+?\")\n",
    "\n",
    "matches = re.finditer(pattern, test_string_1)\n",
    "\n",
    "for match in matches:\n",
    "\tprint(match)"
   ]
  },
  {
   "cell_type": "code",
   "execution_count": 82,
   "id": "5cd4d3db-f4bf-4cc8-b762-5db855c26b32",
   "metadata": {},
   "outputs": [
    {
     "name": "stdout",
     "output_type": "stream",
     "text": [
      "aaXaaaXaaaaXaaaaaX\n",
      "\n",
      "<re.Match object; span=(0, 2), match='aa'>\n",
      "<re.Match object; span=(3, 5), match='aa'>\n",
      "<re.Match object; span=(7, 9), match='aa'>\n",
      "<re.Match object; span=(9, 11), match='aa'>\n",
      "<re.Match object; span=(12, 14), match='aa'>\n",
      "<re.Match object; span=(14, 16), match='aa'>\n"
     ]
    }
   ],
   "source": [
    "print(test_string_4, end=\"\\n\\n\")\n",
    "\n",
    "pattern = re.compile(r\"a{2,5}?\")\n",
    "\n",
    "matches = re.finditer(pattern, test_string_4)\n",
    "\n",
    "for match in matches:\n",
    "\tprint(match)"
   ]
  },
  {
   "cell_type": "code",
   "execution_count": 83,
   "id": "530f72d1",
   "metadata": {},
   "outputs": [
    {
     "name": "stdout",
     "output_type": "stream",
     "text": [
      "<div>First div</div><div>Second div</div>\n",
      "\n"
     ]
    },
    {
     "data": {
      "text/plain": [
       "['<div>First div</div><div>Second div</div>']"
      ]
     },
     "execution_count": 83,
     "metadata": {},
     "output_type": "execute_result"
    }
   ],
   "source": [
    "print(test_string_5, end=\"\\n\\n\")\n",
    "\n",
    "pattern = re.compile(r\"<\\w+>.*</\\w+>\")\n",
    "\n",
    "matches = re.findall(pattern, test_string_5)\n",
    "matches"
   ]
  },
  {
   "cell_type": "code",
   "execution_count": 84,
   "id": "577e3863",
   "metadata": {},
   "outputs": [
    {
     "name": "stdout",
     "output_type": "stream",
     "text": [
      "<div>First div</div><div>Second div</div>\n",
      "\n"
     ]
    },
    {
     "data": {
      "text/plain": [
       "['<div>First div</div>', '<div>Second div</div>']"
      ]
     },
     "execution_count": 84,
     "metadata": {},
     "output_type": "execute_result"
    }
   ],
   "source": [
    "print(test_string_5, end=\"\\n\\n\")\n",
    "\n",
    "pattern = re.compile(r\"<\\w+>.*?</\\w+>\")\n",
    "\n",
    "matches = re.findall(pattern, test_string_5)\n",
    "matches"
   ]
  },
  {
   "cell_type": "markdown",
   "id": "d560d7f0-923a-44a7-9cba-0bac1bc02f9d",
   "metadata": {},
   "source": [
    "## 7. Grouping"
   ]
  },
  {
   "cell_type": "code",
   "execution_count": 111,
   "id": "87a8a0c3-e6ef-4ab6-a25d-2f802b65cd34",
   "metadata": {},
   "outputs": [],
   "source": [
    "test_string_1 = \"Call me at (123) 456-7890 or (456) 7890123 or (789) 201 3465.\"\n",
    "\n",
    "test_string_2 = \"\"\"\n",
    "<div>This is a div tag</div>\n",
    "<p>This is a paragraph tag</p>\n",
    "<div>This is another div tag</div>\n",
    "<h2>This is header div tag</h2>\n",
    "\"\"\"\n",
    "\n",
    "test_string_3 = \"\"\"\n",
    "hello hello\n",
    "world world\n",
    "python python\n",
    "\"\"\"\n",
    "\n",
    "test_string_4 = \"Visit our website at https://example.com or http://example.net\"\n",
    "\n",
    "test_string_5 = \"\"\"\n",
    "Mr. Wayne\n",
    "Mr Kent\n",
    "Ms Romanoff\n",
    "Mrs. Stark\n",
    "Mr. M\n",
    "\"\"\""
   ]
  },
  {
   "cell_type": "markdown",
   "id": "e17bbdaf-c809-47b2-b6f8-ea4139ae053d",
   "metadata": {},
   "source": [
    "### 7.1 Capture Groups"
   ]
  },
  {
   "cell_type": "code",
   "execution_count": 117,
   "id": "f344aa1c-9bfb-4455-a0c1-b9a93c940f01",
   "metadata": {},
   "outputs": [
    {
     "name": "stdout",
     "output_type": "stream",
     "text": [
      "Match 1\n",
      "----------------\n",
      "<re.Match object; span=(11, 25), match='(123) 456-7890'>\n",
      "Match: (123) 456-7890\n",
      "Groups: ('123', '456', '7890')\n",
      "Group 1: 123\n",
      "Group 2: 456\n",
      "Group 3: 7890\n",
      "\n",
      "Match 2\n",
      "----------------\n",
      "<re.Match object; span=(29, 42), match='(456) 7890123'>\n",
      "Match: (456) 7890123\n",
      "Groups: ('456', '789', '0123')\n",
      "Group 1: 456\n",
      "Group 2: 789\n",
      "Group 3: 0123\n",
      "\n",
      "Match 3\n",
      "----------------\n",
      "<re.Match object; span=(46, 60), match='(789) 201 3465'>\n",
      "Match: (789) 201 3465\n",
      "Groups: ('789', '201', '3465')\n",
      "Group 1: 789\n",
      "Group 2: 201\n",
      "Group 3: 3465\n",
      "\n"
     ]
    }
   ],
   "source": [
    "pattern = re.compile(r\"\\((\\d{3})\\)\\s(\\d{3}).?(\\d{4})\")\n",
    "\n",
    "matches = re.finditer(pattern, test_string_1)\n",
    "\n",
    "for i, match in enumerate(matches, start=1):\n",
    "\tprint(f\"Match {i}\")\n",
    "\tprint(\"----------------\")\n",
    "\tprint(match)\n",
    "\tprint(f\"Match: {match.group()}\")\n",
    "\tprint(f\"Groups: {match.groups()}\")\n",
    "\tprint(f\"Group 1: {match.group(1)}\")\n",
    "\tprint(f\"Group 2: {match.group(2)}\")\n",
    "\tprint(f\"Group 3: {match.group(3)}\")\n",
    "\tprint()"
   ]
  },
  {
   "cell_type": "markdown",
   "id": "746ac93d-8427-4988-81e1-cd8190c835f2",
   "metadata": {},
   "source": [
    "### 7.2 Named Capture Groups"
   ]
  },
  {
   "cell_type": "code",
   "execution_count": 118,
   "id": "9b0ec386-4e7f-4913-b8fc-58b0302be6e6",
   "metadata": {},
   "outputs": [
    {
     "name": "stdout",
     "output_type": "stream",
     "text": [
      "\n",
      "<div>This is a div tag</div>\n",
      "<p>This is a paragraph tag</p>\n",
      "<div>This is another div tag</div>\n",
      "<h2>This is header div tag</h2>\n",
      "\n"
     ]
    }
   ],
   "source": [
    "print(test_string_2)"
   ]
  },
  {
   "cell_type": "code",
   "execution_count": 122,
   "id": "01f447d6-fc94-4937-bdd7-f60c301d7203",
   "metadata": {},
   "outputs": [
    {
     "name": "stdout",
     "output_type": "stream",
     "text": [
      "Match 1\n",
      "----------------\n",
      "<re.Match object; span=(1, 29), match='<div>This is a div tag</div>'>\n",
      "Match: <div>This is a div tag</div>\n",
      "Groups: {'tag': 'div', 'content': 'This is a div tag'}\n",
      "Group 1: div\n",
      "Group 2: This is a div tag\n",
      "\n",
      "Match 2\n",
      "----------------\n",
      "<re.Match object; span=(30, 60), match='<p>This is a paragraph tag</p>'>\n",
      "Match: <p>This is a paragraph tag</p>\n",
      "Groups: {'tag': 'p', 'content': 'This is a paragraph tag'}\n",
      "Group 1: p\n",
      "Group 2: This is a paragraph tag\n",
      "\n",
      "Match 3\n",
      "----------------\n",
      "<re.Match object; span=(61, 95), match='<div>This is another div tag</div>'>\n",
      "Match: <div>This is another div tag</div>\n",
      "Groups: {'tag': 'div', 'content': 'This is another div tag'}\n",
      "Group 1: div\n",
      "Group 2: This is another div tag\n",
      "\n",
      "Match 4\n",
      "----------------\n",
      "<re.Match object; span=(96, 127), match='<h2>This is header div tag</h2>'>\n",
      "Match: <h2>This is header div tag</h2>\n",
      "Groups: {'tag': 'h2', 'content': 'This is header div tag'}\n",
      "Group 1: h2\n",
      "Group 2: This is header div tag\n",
      "\n"
     ]
    }
   ],
   "source": [
    "pattern = re.compile(r\"<(?P<tag>\\w+)>(?P<content>.*)</\\w+>\")\n",
    "\n",
    "matches = re.finditer(pattern, test_string_2)\n",
    "\n",
    "for i, match in enumerate(matches, start=1):\n",
    "\tprint(f\"Match {i}\")\n",
    "\tprint(\"----------------\")\n",
    "\tprint(match)\n",
    "\tprint(f\"Match: {match.group()}\")\n",
    "\tprint(f\"Groups: {match.groupdict()}\")\n",
    "\tprint(f\"Group 1: {match.group('tag')}\")\n",
    "\tprint(f\"Group 2: {match.group('content')}\")\n",
    "\tprint()"
   ]
  },
  {
   "cell_type": "markdown",
   "id": "b049b5bc-7a0a-4de3-a16a-4156e6a02fea",
   "metadata": {},
   "source": [
    "### 7.3 Backreferences"
   ]
  },
  {
   "cell_type": "code",
   "execution_count": 87,
   "id": "dcd50b47-82a5-48fa-bac7-db9814a11297",
   "metadata": {},
   "outputs": [],
   "source": [
    "# default groups"
   ]
  },
  {
   "cell_type": "code",
   "execution_count": 127,
   "id": "f248d6ac-6a2e-42fe-a532-f8e765b225d9",
   "metadata": {},
   "outputs": [
    {
     "name": "stdout",
     "output_type": "stream",
     "text": [
      "\n",
      "hello hello\n",
      "world world\n",
      "python python\n",
      "\n"
     ]
    }
   ],
   "source": [
    "print(test_string_3)"
   ]
  },
  {
   "cell_type": "code",
   "execution_count": 134,
   "id": "88e12c5f-8be2-4a16-bb80-ac1492bf179f",
   "metadata": {},
   "outputs": [
    {
     "name": "stdout",
     "output_type": "stream",
     "text": [
      "Match 1\n",
      "----------------\n",
      "<re.Match object; span=(1, 12), match='hello hello'>\n",
      "Match: hello hello\n",
      "Groups: ('hello',)\n",
      "\n",
      "Match 2\n",
      "----------------\n",
      "<re.Match object; span=(13, 24), match='world world'>\n",
      "Match: world world\n",
      "Groups: ('world',)\n",
      "\n",
      "Match 3\n",
      "----------------\n",
      "<re.Match object; span=(25, 38), match='python python'>\n",
      "Match: python python\n",
      "Groups: ('python',)\n",
      "\n"
     ]
    }
   ],
   "source": [
    "pattern = re.compile(r\"\\b(\\w+) \\1\")\n",
    "\n",
    "matches = re.finditer(pattern, test_string_3)\n",
    "\n",
    "for i, match in enumerate(matches, start=1):\n",
    "\tprint(f\"Match {i}\")\n",
    "\tprint(\"----------------\")\n",
    "\tprint(match)\n",
    "\tprint(f\"Match: {match.group()}\")\n",
    "\tprint(f\"Groups: {match.groups()}\")\n",
    "\tprint()"
   ]
  },
  {
   "cell_type": "code",
   "execution_count": 88,
   "id": "ccafc4be-7f27-48ae-ba62-70e1db369d57",
   "metadata": {},
   "outputs": [],
   "source": [
    "# named groups"
   ]
  },
  {
   "cell_type": "code",
   "execution_count": 135,
   "id": "9f68ecb7-77c7-4499-917a-2db25595a5a6",
   "metadata": {},
   "outputs": [
    {
     "name": "stdout",
     "output_type": "stream",
     "text": [
      "\n",
      "<div>This is a div tag</div>\n",
      "<p>This is a paragraph tag</p>\n",
      "<div>This is another div tag</div>\n",
      "<h2>This is header div tag</h2>\n",
      "\n"
     ]
    }
   ],
   "source": [
    "print(test_string_2)"
   ]
  },
  {
   "cell_type": "code",
   "execution_count": 136,
   "id": "f0df74c0-f57e-4e28-928f-f08c671ed816",
   "metadata": {},
   "outputs": [
    {
     "name": "stdout",
     "output_type": "stream",
     "text": [
      "Match 1\n",
      "----------------\n",
      "<re.Match object; span=(1, 29), match='<div>This is a div tag</div>'>\n",
      "Match: <div>This is a div tag</div>\n",
      "Groups: {'tag': 'div', 'content': 'This is a div tag'}\n",
      "Group 1: div\n",
      "Group 2: This is a div tag\n",
      "\n",
      "Match 2\n",
      "----------------\n",
      "<re.Match object; span=(30, 60), match='<p>This is a paragraph tag</p>'>\n",
      "Match: <p>This is a paragraph tag</p>\n",
      "Groups: {'tag': 'p', 'content': 'This is a paragraph tag'}\n",
      "Group 1: p\n",
      "Group 2: This is a paragraph tag\n",
      "\n",
      "Match 3\n",
      "----------------\n",
      "<re.Match object; span=(61, 95), match='<div>This is another div tag</div>'>\n",
      "Match: <div>This is another div tag</div>\n",
      "Groups: {'tag': 'div', 'content': 'This is another div tag'}\n",
      "Group 1: div\n",
      "Group 2: This is another div tag\n",
      "\n",
      "Match 4\n",
      "----------------\n",
      "<re.Match object; span=(96, 127), match='<h2>This is header div tag</h2>'>\n",
      "Match: <h2>This is header div tag</h2>\n",
      "Groups: {'tag': 'h2', 'content': 'This is header div tag'}\n",
      "Group 1: h2\n",
      "Group 2: This is header div tag\n",
      "\n"
     ]
    }
   ],
   "source": [
    "pattern = re.compile(r\"<(?P<tag>\\w+)>(?P<content>.*)</(?P=tag)>\")\n",
    "\n",
    "matches = re.finditer(pattern, test_string_2)\n",
    "\n",
    "for i, match in enumerate(matches, start=1):\n",
    "\tprint(f\"Match {i}\")\n",
    "\tprint(\"----------------\")\n",
    "\tprint(match)\n",
    "\tprint(f\"Match: {match.group()}\")\n",
    "\tprint(f\"Groups: {match.groupdict()}\")\n",
    "\tprint(f\"Group 1: {match.group('tag')}\")\n",
    "\tprint(f\"Group 2: {match.group('content')}\")\n",
    "\tprint()"
   ]
  },
  {
   "cell_type": "markdown",
   "id": "f1ea4227-921b-4242-830a-c5b2722d3821",
   "metadata": {},
   "source": [
    "### 7.4 Non-capture Groups"
   ]
  },
  {
   "cell_type": "code",
   "execution_count": 137,
   "id": "5052d3c3-377e-4964-9804-ddae0d04444e",
   "metadata": {},
   "outputs": [
    {
     "name": "stdout",
     "output_type": "stream",
     "text": [
      "Visit our website at https://example.com or http://example.net\n"
     ]
    }
   ],
   "source": [
    "print(test_string_4)"
   ]
  },
  {
   "cell_type": "code",
   "execution_count": 139,
   "id": "362ac3f7-91bf-4554-a0c4-ebf5133c99de",
   "metadata": {},
   "outputs": [
    {
     "name": "stdout",
     "output_type": "stream",
     "text": [
      "Match 1\n",
      "----------------\n",
      "<re.Match object; span=(21, 40), match='https://example.com'>\n",
      "Match: https://example.com\n",
      "Groups: ('example', 'com')\n",
      "\n",
      "Match 2\n",
      "----------------\n",
      "<re.Match object; span=(44, 62), match='http://example.net'>\n",
      "Match: http://example.net\n",
      "Groups: ('example', 'net')\n",
      "\n"
     ]
    }
   ],
   "source": [
    "pattern = re.compile(r\"(?:https?://)(\\w+)\\.(\\w+)\")\n",
    "\n",
    "matches = re.finditer(pattern, test_string_4)\n",
    "\n",
    "for i, match in enumerate(matches, start=1):\n",
    "\tprint(f\"Match {i}\")\n",
    "\tprint(\"----------------\")\n",
    "\tprint(match)\n",
    "\tprint(f\"Match: {match.group()}\")\n",
    "\tprint(f\"Groups: {match.groups()}\")\n",
    "\t# print(f\"Group 1: {match.group('tag')}\")\n",
    "\t# print(f\"Group 2: {match.group('content')}\")\n",
    "\tprint()"
   ]
  },
  {
   "cell_type": "markdown",
   "id": "76e27d58-f72f-43e7-945d-8a86570682c9",
   "metadata": {},
   "source": [
    "### 7.5 Alternation"
   ]
  },
  {
   "cell_type": "code",
   "execution_count": 140,
   "id": "b59f6043-48d5-4b1a-8e9f-f2d1cb831975",
   "metadata": {},
   "outputs": [
    {
     "name": "stdout",
     "output_type": "stream",
     "text": [
      "\n",
      "Mr. Wayne\n",
      "Mr Kent\n",
      "Ms Romanoff\n",
      "Mrs. Stark\n",
      "Mr. M\n",
      "\n"
     ]
    }
   ],
   "source": [
    "print(test_string_5)"
   ]
  },
  {
   "cell_type": "code",
   "execution_count": 147,
   "id": "6c52a6b1-2dc5-4511-8057-1f2f73590d3d",
   "metadata": {},
   "outputs": [
    {
     "name": "stdout",
     "output_type": "stream",
     "text": [
      "Mr. Wayne\n",
      "Mr Kent\n",
      "Ms Romanoff\n",
      "Mrs. Stark\n",
      "Mr. M\n"
     ]
    }
   ],
   "source": [
    "# pattern = re.compile(r\"Mr\\.?\\s\\w+\")\n",
    "# pattern = re.compile(r\"Mr?s\\.?\\s\\w+\")\n",
    "# pattern = re.compile(r\"Mr?s?\\.?\\s\\w+\")\n",
    "pattern = re.compile(r\"(Mr|Ms|Mrs)\\.?\\s\\w+\")\n",
    "\n",
    "matches = re.finditer(pattern, test_string_5)\n",
    "\n",
    "for name in matches:\n",
    "\tprint(name.group())"
   ]
  },
  {
   "cell_type": "markdown",
   "id": "8a0ae423-9d39-4b05-bf8e-52bc98c205a7",
   "metadata": {},
   "source": [
    "## 8. String Modifications"
   ]
  },
  {
   "cell_type": "code",
   "execution_count": 148,
   "id": "e02599ad-5721-4fe9-a668-ac82383c5c84",
   "metadata": {},
   "outputs": [],
   "source": [
    "test_string_1 = \"This is the first sentence. This is the second sentence! This is the third sentence?\"\n",
    "\n",
    "test_string_2 = \"Visit our website at https://website1.com or http://website2.net\""
   ]
  },
  {
   "cell_type": "markdown",
   "id": "9fbed46a-3008-46bb-96af-b05a2bd99f7a",
   "metadata": {},
   "source": [
    "### 8.1 Splitting"
   ]
  },
  {
   "cell_type": "code",
   "execution_count": 90,
   "id": "058ff687-477e-4afc-aa33-9701f40a7019",
   "metadata": {},
   "outputs": [],
   "source": [
    "# sentences"
   ]
  },
  {
   "cell_type": "code",
   "execution_count": 149,
   "id": "1954562c-0208-4a7c-8dd4-a1ce7d1d8c05",
   "metadata": {},
   "outputs": [
    {
     "name": "stdout",
     "output_type": "stream",
     "text": [
      "This is the first sentence. This is the second sentence! This is the third sentence?\n"
     ]
    }
   ],
   "source": [
    "print(test_string_1)"
   ]
  },
  {
   "cell_type": "code",
   "execution_count": 154,
   "id": "862d61a2-e0e1-41bc-be9a-6cf8249d8978",
   "metadata": {},
   "outputs": [
    {
     "name": "stdout",
     "output_type": "stream",
     "text": [
      "This is the first sentence\n",
      "This is the second sentence\n",
      "This is the third sentence\n"
     ]
    }
   ],
   "source": [
    "pattern = re.compile(r\"[.!?]\")\n",
    "\n",
    "matches = re.split(pattern, test_string_1)\n",
    "\n",
    "# matches\n",
    "\n",
    "for sentence in matches[:-1]:\n",
    "\tprint(sentence.strip())"
   ]
  },
  {
   "cell_type": "markdown",
   "id": "a259bd9a-5ea4-4eaa-a6ae-b3426aba1844",
   "metadata": {},
   "source": [
    "### 8.2 Substitution"
   ]
  },
  {
   "cell_type": "code",
   "execution_count": 91,
   "id": "4f2c2d46-e675-4104-9c6e-7978cb10c034",
   "metadata": {},
   "outputs": [],
   "source": [
    "# <website>.co.in"
   ]
  },
  {
   "cell_type": "code",
   "execution_count": 155,
   "id": "84568b3c-cea6-494d-b3f6-43886ed6c31a",
   "metadata": {},
   "outputs": [
    {
     "name": "stdout",
     "output_type": "stream",
     "text": [
      "Visit our website at https://website1.com or http://website2.net\n"
     ]
    }
   ],
   "source": [
    "print(test_string_2)"
   ]
  },
  {
   "cell_type": "code",
   "execution_count": 159,
   "id": "e1b4b7ee-feb3-4d86-bd36-ceeea0117b24",
   "metadata": {},
   "outputs": [
    {
     "name": "stdout",
     "output_type": "stream",
     "text": [
      "Visit our website at website1.com.co.in or website2.net.co.in\n"
     ]
    }
   ],
   "source": [
    "pattern = re.compile(r\"(https?://)(\\w+)\\.(\\w+)\")\n",
    "\n",
    "replaced_string = re.sub(pattern, r\"\\2.\\3.co.in\", test_string_2)\n",
    "\n",
    "print(replaced_string)"
   ]
  },
  {
   "cell_type": "markdown",
   "id": "c00d0a2f-c454-40a8-8fce-2c15d7a94452",
   "metadata": {},
   "source": [
    "## 9. Lookahead and Lookbehind Assertions"
   ]
  },
  {
   "cell_type": "code",
   "execution_count": 160,
   "id": "3728185a-f826-4df8-ae15-5cb4bf98c2fa",
   "metadata": {},
   "outputs": [],
   "source": [
    "test_string_1 = \"\"\"\n",
    "100 USD\n",
    "150 USD\n",
    "85 INR\n",
    "120 AED\n",
    "60 USD\n",
    "70 INR\n",
    "\"\"\"\n",
    "\n",
    "test_string_2 = \"\"\"\n",
    "Chris Evans\n",
    "Chris Hemsworth\n",
    "Chris Pratt\n",
    "Tom Holland\n",
    "Tom Hiddleston\n",
    "\"\"\""
   ]
  },
  {
   "cell_type": "markdown",
   "id": "5014d3b1-26b2-425a-9283-33fbf2689cef",
   "metadata": {},
   "source": [
    "### 9.1 Positive Lookahead Assertion"
   ]
  },
  {
   "cell_type": "code",
   "execution_count": 93,
   "id": "b0ba2735-e711-494b-b0d8-d0956e448870",
   "metadata": {},
   "outputs": [],
   "source": [
    "# followed by 'USD'"
   ]
  },
  {
   "cell_type": "code",
   "execution_count": 161,
   "id": "e68dfa12-3d70-4310-bd55-d5af7b89cafd",
   "metadata": {},
   "outputs": [
    {
     "name": "stdout",
     "output_type": "stream",
     "text": [
      "\n",
      "100 USD\n",
      "150 USD\n",
      "85 INR\n",
      "120 AED\n",
      "60 USD\n",
      "70 INR\n",
      "\n"
     ]
    }
   ],
   "source": [
    "print(test_string_1)"
   ]
  },
  {
   "cell_type": "code",
   "execution_count": 163,
   "id": "1abc91cc-4e79-4f1f-8893-116aab7fb289",
   "metadata": {},
   "outputs": [
    {
     "name": "stdout",
     "output_type": "stream",
     "text": [
      "100\n",
      "150\n",
      "60\n"
     ]
    }
   ],
   "source": [
    "pattern = re.compile(r\"\\d+ (?=USD)\")\n",
    "\n",
    "matches = re.findall(pattern, test_string_1)\n",
    "\n",
    "for match in matches:\n",
    "\tprint(match.strip())"
   ]
  },
  {
   "cell_type": "markdown",
   "id": "9ff40a91-6d85-43a8-823a-d7ad26da8683",
   "metadata": {},
   "source": [
    "### 9.2 Negative Lookahead Assertion"
   ]
  },
  {
   "cell_type": "code",
   "execution_count": 94,
   "id": "45e2456d-f6ce-47e4-af4d-0b8b0a24cc7d",
   "metadata": {},
   "outputs": [],
   "source": [
    "# not followed by 'USD'"
   ]
  },
  {
   "cell_type": "code",
   "execution_count": 164,
   "id": "8b06b735-de34-482d-b5da-054251f8e6e4",
   "metadata": {},
   "outputs": [
    {
     "name": "stdout",
     "output_type": "stream",
     "text": [
      "\n",
      "100 USD\n",
      "150 USD\n",
      "85 INR\n",
      "120 AED\n",
      "60 USD\n",
      "70 INR\n",
      "\n"
     ]
    }
   ],
   "source": [
    "print(test_string_1)"
   ]
  },
  {
   "cell_type": "code",
   "execution_count": 165,
   "id": "a6130ce8-1f26-4b6e-afa4-523e4853bdbf",
   "metadata": {},
   "outputs": [
    {
     "name": "stdout",
     "output_type": "stream",
     "text": [
      "85\n",
      "120\n",
      "70\n"
     ]
    }
   ],
   "source": [
    "pattern = re.compile(r\"\\d+ (?!USD)\")\n",
    "\n",
    "matches = re.findall(pattern, test_string_1)\n",
    "\n",
    "for match in matches:\n",
    "\tprint(match.strip())"
   ]
  },
  {
   "cell_type": "markdown",
   "id": "2b9759b6-d3de-4d6d-a289-5ce7a1e71493",
   "metadata": {},
   "source": [
    "### 9.3 Positive Lookbehind Assertion"
   ]
  },
  {
   "cell_type": "code",
   "execution_count": 95,
   "id": "4f0df6a6-65f9-4f6c-9459-e0383fd35084",
   "metadata": {},
   "outputs": [],
   "source": [
    "# preceded by 'Chris'"
   ]
  },
  {
   "cell_type": "code",
   "execution_count": 166,
   "id": "11f13c84-268b-460c-aa11-c6a3c2fcdad5",
   "metadata": {},
   "outputs": [
    {
     "name": "stdout",
     "output_type": "stream",
     "text": [
      "\n",
      "Chris Evans\n",
      "Chris Hemsworth\n",
      "Chris Pratt\n",
      "Tom Holland\n",
      "Tom Hiddleston\n",
      "\n"
     ]
    }
   ],
   "source": [
    "print(test_string_2)"
   ]
  },
  {
   "cell_type": "code",
   "execution_count": 167,
   "id": "b11184b7-6cef-4958-b72c-768a10019bd3",
   "metadata": {},
   "outputs": [
    {
     "name": "stdout",
     "output_type": "stream",
     "text": [
      "Evans\n",
      "Hemsworth\n",
      "Pratt\n"
     ]
    }
   ],
   "source": [
    "pattern = re.compile(r\"(?<=Chris) \\w+\")\n",
    "\n",
    "matches = re.findall(pattern, test_string_2)\n",
    "\n",
    "for match in matches:\n",
    "\tprint(match.strip())"
   ]
  },
  {
   "cell_type": "markdown",
   "id": "64748253-4277-492a-a05f-00c06edaadca",
   "metadata": {},
   "source": [
    "### 9.4 Negative Lookbehind Assertion"
   ]
  },
  {
   "cell_type": "code",
   "execution_count": 96,
   "id": "4f6053b0-6fa9-4931-9055-603c83253118",
   "metadata": {},
   "outputs": [],
   "source": [
    "# not preceded by 'Chris'"
   ]
  },
  {
   "cell_type": "code",
   "execution_count": 168,
   "id": "fe83c524-f74a-46a9-91a3-c4bc8dcb8d89",
   "metadata": {},
   "outputs": [
    {
     "name": "stdout",
     "output_type": "stream",
     "text": [
      "\n",
      "Chris Evans\n",
      "Chris Hemsworth\n",
      "Chris Pratt\n",
      "Tom Holland\n",
      "Tom Hiddleston\n",
      "\n"
     ]
    }
   ],
   "source": [
    "print(test_string_2)"
   ]
  },
  {
   "cell_type": "code",
   "execution_count": 169,
   "id": "16a0c7a7-2105-42c0-a510-96404d1b306a",
   "metadata": {},
   "outputs": [
    {
     "name": "stdout",
     "output_type": "stream",
     "text": [
      "Holland\n",
      "Hiddleston\n"
     ]
    }
   ],
   "source": [
    "pattern = re.compile(r\"(?<!Chris) \\w+\")\n",
    "\n",
    "matches = re.findall(pattern, test_string_2)\n",
    "\n",
    "for match in matches:\n",
    "\tprint(match.strip())"
   ]
  },
  {
   "cell_type": "markdown",
   "id": "e3fdcdd3-4419-4acd-a2d8-14d00b1aa535",
   "metadata": {},
   "source": [
    "## 10. Flags"
   ]
  },
  {
   "cell_type": "code",
   "execution_count": 177,
   "id": "18578b53-9401-4842-886b-85ea10ade337",
   "metadata": {},
   "outputs": [],
   "source": [
    "test_string = \"\"\"\n",
    "Hello World!\n",
    "This is a Hello test.\n",
    "Hello again!\n",
    "Python is fun.\n",
    "Hello Python.\n",
    "\"\"\""
   ]
  },
  {
   "cell_type": "code",
   "execution_count": 98,
   "id": "84721f82-cd6d-4497-b439-26e9cf06a36a",
   "metadata": {},
   "outputs": [],
   "source": [
    "# python"
   ]
  },
  {
   "cell_type": "code",
   "execution_count": 175,
   "id": "0fda5fc6-1b51-42d2-bff7-9d3388505772",
   "metadata": {},
   "outputs": [
    {
     "name": "stdout",
     "output_type": "stream",
     "text": [
      "<re.Match object; span=(43, 49), match='Python'>\n",
      "\n",
      "<re.Match object; span=(64, 70), match='Python'>\n",
      "\n"
     ]
    }
   ],
   "source": [
    "pattern = re.compile(r\"python\", re.I)\n",
    "\n",
    "matches = re.finditer(pattern, test_string)\n",
    "\n",
    "for match in matches:\n",
    "\tprint(match)\n",
    "\tprint()"
   ]
  },
  {
   "cell_type": "code",
   "execution_count": 99,
   "id": "7785fdaa-6d02-4072-bad2-63a465bcd04f",
   "metadata": {},
   "outputs": [],
   "source": [
    "# hello"
   ]
  },
  {
   "cell_type": "code",
   "execution_count": 180,
   "id": "213c1e6e-785e-4d69-a735-2622f39a9178",
   "metadata": {},
   "outputs": [
    {
     "name": "stdout",
     "output_type": "stream",
     "text": [
      "<re.Match object; span=(1, 6), match='Hello'>\n",
      "\n",
      "<re.Match object; span=(36, 41), match='Hello'>\n",
      "\n",
      "<re.Match object; span=(64, 69), match='Hello'>\n",
      "\n"
     ]
    }
   ],
   "source": [
    "pattern = re.compile(r\"^hello\", re.I | re.M)\n",
    "\n",
    "matches = re.finditer(pattern, test_string)\n",
    "\n",
    "for match in matches:\n",
    "\tprint(match)\n",
    "\tprint()"
   ]
  },
  {
   "cell_type": "code",
   "execution_count": 100,
   "id": "62ca22ad-c115-427e-8e25-9b2567901f17",
   "metadata": {},
   "outputs": [],
   "source": [
    "# all characters"
   ]
  },
  {
   "cell_type": "code",
   "execution_count": 184,
   "id": "e1b2427a-9426-4185-b3b9-f5bbdcd26cd4",
   "metadata": {},
   "outputs": [
    {
     "name": "stdout",
     "output_type": "stream",
     "text": [
      "<re.Match object; span=(0, 1), match='\\n'>\n",
      "\n",
      "<re.Match object; span=(1, 2), match='H'>\n",
      "\n",
      "<re.Match object; span=(2, 3), match='e'>\n",
      "\n",
      "<re.Match object; span=(3, 4), match='l'>\n",
      "\n",
      "<re.Match object; span=(4, 5), match='l'>\n",
      "\n",
      "<re.Match object; span=(5, 6), match='o'>\n",
      "\n",
      "<re.Match object; span=(6, 7), match=' '>\n",
      "\n",
      "<re.Match object; span=(7, 8), match='W'>\n",
      "\n",
      "<re.Match object; span=(8, 9), match='o'>\n",
      "\n",
      "<re.Match object; span=(9, 10), match='r'>\n",
      "\n",
      "<re.Match object; span=(10, 11), match='l'>\n",
      "\n",
      "<re.Match object; span=(11, 12), match='d'>\n",
      "\n",
      "<re.Match object; span=(12, 13), match='!'>\n",
      "\n",
      "<re.Match object; span=(13, 14), match='\\n'>\n",
      "\n",
      "<re.Match object; span=(14, 15), match='T'>\n",
      "\n",
      "<re.Match object; span=(15, 16), match='h'>\n",
      "\n",
      "<re.Match object; span=(16, 17), match='i'>\n",
      "\n",
      "<re.Match object; span=(17, 18), match='s'>\n",
      "\n",
      "<re.Match object; span=(18, 19), match=' '>\n",
      "\n",
      "<re.Match object; span=(19, 20), match='i'>\n",
      "\n",
      "<re.Match object; span=(20, 21), match='s'>\n",
      "\n",
      "<re.Match object; span=(21, 22), match=' '>\n",
      "\n",
      "<re.Match object; span=(22, 23), match='a'>\n",
      "\n",
      "<re.Match object; span=(23, 24), match=' '>\n",
      "\n",
      "<re.Match object; span=(24, 25), match='H'>\n",
      "\n",
      "<re.Match object; span=(25, 26), match='e'>\n",
      "\n",
      "<re.Match object; span=(26, 27), match='l'>\n",
      "\n",
      "<re.Match object; span=(27, 28), match='l'>\n",
      "\n",
      "<re.Match object; span=(28, 29), match='o'>\n",
      "\n",
      "<re.Match object; span=(29, 30), match=' '>\n",
      "\n",
      "<re.Match object; span=(30, 31), match='t'>\n",
      "\n",
      "<re.Match object; span=(31, 32), match='e'>\n",
      "\n",
      "<re.Match object; span=(32, 33), match='s'>\n",
      "\n",
      "<re.Match object; span=(33, 34), match='t'>\n",
      "\n",
      "<re.Match object; span=(34, 35), match='.'>\n",
      "\n",
      "<re.Match object; span=(35, 36), match='\\n'>\n",
      "\n",
      "<re.Match object; span=(36, 37), match='H'>\n",
      "\n",
      "<re.Match object; span=(37, 38), match='e'>\n",
      "\n",
      "<re.Match object; span=(38, 39), match='l'>\n",
      "\n",
      "<re.Match object; span=(39, 40), match='l'>\n",
      "\n",
      "<re.Match object; span=(40, 41), match='o'>\n",
      "\n",
      "<re.Match object; span=(41, 42), match=' '>\n",
      "\n",
      "<re.Match object; span=(42, 43), match='a'>\n",
      "\n",
      "<re.Match object; span=(43, 44), match='g'>\n",
      "\n",
      "<re.Match object; span=(44, 45), match='a'>\n",
      "\n",
      "<re.Match object; span=(45, 46), match='i'>\n",
      "\n",
      "<re.Match object; span=(46, 47), match='n'>\n",
      "\n",
      "<re.Match object; span=(47, 48), match='!'>\n",
      "\n",
      "<re.Match object; span=(48, 49), match='\\n'>\n",
      "\n",
      "<re.Match object; span=(49, 50), match='P'>\n",
      "\n",
      "<re.Match object; span=(50, 51), match='y'>\n",
      "\n",
      "<re.Match object; span=(51, 52), match='t'>\n",
      "\n",
      "<re.Match object; span=(52, 53), match='h'>\n",
      "\n",
      "<re.Match object; span=(53, 54), match='o'>\n",
      "\n",
      "<re.Match object; span=(54, 55), match='n'>\n",
      "\n",
      "<re.Match object; span=(55, 56), match=' '>\n",
      "\n",
      "<re.Match object; span=(56, 57), match='i'>\n",
      "\n",
      "<re.Match object; span=(57, 58), match='s'>\n",
      "\n",
      "<re.Match object; span=(58, 59), match=' '>\n",
      "\n",
      "<re.Match object; span=(59, 60), match='f'>\n",
      "\n",
      "<re.Match object; span=(60, 61), match='u'>\n",
      "\n",
      "<re.Match object; span=(61, 62), match='n'>\n",
      "\n",
      "<re.Match object; span=(62, 63), match='.'>\n",
      "\n",
      "<re.Match object; span=(63, 64), match='\\n'>\n",
      "\n",
      "<re.Match object; span=(64, 65), match='H'>\n",
      "\n",
      "<re.Match object; span=(65, 66), match='e'>\n",
      "\n",
      "<re.Match object; span=(66, 67), match='l'>\n",
      "\n",
      "<re.Match object; span=(67, 68), match='l'>\n",
      "\n",
      "<re.Match object; span=(68, 69), match='o'>\n",
      "\n",
      "<re.Match object; span=(69, 70), match=' '>\n",
      "\n",
      "<re.Match object; span=(70, 71), match='P'>\n",
      "\n",
      "<re.Match object; span=(71, 72), match='y'>\n",
      "\n",
      "<re.Match object; span=(72, 73), match='t'>\n",
      "\n",
      "<re.Match object; span=(73, 74), match='h'>\n",
      "\n",
      "<re.Match object; span=(74, 75), match='o'>\n",
      "\n",
      "<re.Match object; span=(75, 76), match='n'>\n",
      "\n",
      "<re.Match object; span=(76, 77), match='.'>\n",
      "\n",
      "<re.Match object; span=(77, 78), match='\\n'>\n",
      "\n"
     ]
    }
   ],
   "source": [
    "pattern = re.compile(r\".\", re.S)\n",
    "\n",
    "matches = re.finditer(pattern, test_string)\n",
    "\n",
    "for match in matches:\n",
    "\tprint(match)\n",
    "\tprint()"
   ]
  },
  {
   "cell_type": "markdown",
   "id": "5cc9fae6-ffab-4cce-a078-af6e20218afd",
   "metadata": {},
   "source": [
    "## 11. Practice Exercises"
   ]
  },
  {
   "cell_type": "markdown",
   "id": "8c24046d-617b-4796-a315-8092d28be848",
   "metadata": {},
   "source": [
    "### Q1. Extract all email addresses from given text"
   ]
  },
  {
   "cell_type": "code",
   "execution_count": 185,
   "id": "1913ed97-5989-467f-a672-6f9f739e9805",
   "metadata": {},
   "outputs": [],
   "source": [
    "text = \"\"\"\n",
    "Hello John, please contact us at support@example.com for further assistance.\n",
    "You can also reach out to our manager at manager@example.org or sales@example.net.\n",
    "Thank you, support@example.com.\n",
    "\"\"\""
   ]
  },
  {
   "cell_type": "code",
   "execution_count": 188,
   "id": "50f8a932-2557-42b3-9b44-bf920968ec58",
   "metadata": {},
   "outputs": [
    {
     "name": "stdout",
     "output_type": "stream",
     "text": [
      "support@example.com\n",
      "manager@example.org\n",
      "sales@example.net\n",
      "support@example.com\n"
     ]
    }
   ],
   "source": [
    "pattern = re.compile(r\"\\w+@\\w+\\.\\w+\")\n",
    "\n",
    "matches = re.finditer(pattern, text)\n",
    "\n",
    "for match in matches:\n",
    "\tprint(match.group().strip())"
   ]
  },
  {
   "cell_type": "markdown",
   "id": "6ffdb0f9-47b8-40af-865b-159874c5c08c",
   "metadata": {},
   "source": [
    "### Q2. Validate phone numbers and callout invalid ones \n",
    "\n",
    "- valid format: (XXX) XXX-XXXX"
   ]
  },
  {
   "cell_type": "code",
   "execution_count": 193,
   "id": "f11e0499-94d9-40ed-ba8f-e7957b0bcb94",
   "metadata": {},
   "outputs": [],
   "source": [
    "phone_numbers = [\n",
    "    \"(123) 456-7890\",\n",
    "    \"(987) 654-3210\",\n",
    "    \"123-456-7890\",\n",
    "    \"(123)456-7890\",\n",
    "    \"(123) 456-7890\"\n",
    "]"
   ]
  },
  {
   "cell_type": "code",
   "execution_count": 194,
   "id": "2690e8a5-d59a-4651-8742-fd4a0e01acfb",
   "metadata": {},
   "outputs": [
    {
     "name": "stdout",
     "output_type": "stream",
     "text": [
      "123-456-7890\n",
      "(123)456-7890\n"
     ]
    }
   ],
   "source": [
    "pattern = re.compile(r\"\\(\\d{3}\\)\\s\\d{3}-\\d{4}\")\n",
    "\n",
    "for number in phone_numbers:\n",
    "\tif not re.match(pattern, number):\n",
    "\t\tprint(number)"
   ]
  },
  {
   "cell_type": "markdown",
   "id": "379dc5a3-9ba6-4532-bd81-53a4558f7e55",
   "metadata": {},
   "source": [
    "### Q3. From Q2, represent all numbers in valid format"
   ]
  },
  {
   "cell_type": "code",
   "execution_count": 199,
   "id": "a9cae446-29ce-4847-b6c7-5bfaf642da1b",
   "metadata": {},
   "outputs": [
    {
     "name": "stdout",
     "output_type": "stream",
     "text": [
      "(123) 456-7890\n",
      "(987) 654-3210\n",
      "(123) 456-7890\n",
      "(123) 456-7890\n",
      "(123) 456-7890\n"
     ]
    }
   ],
   "source": [
    "pattern = re.compile(r\"\\(?(\\d{3})\\)?.?(\\d{3})-(\\d{4})\")\n",
    "\n",
    "for number in phone_numbers:\n",
    "\tif re.match(pattern, number):\n",
    "\t\tprint(re.sub(pattern, r\"(\\1) \\2-\\3\", number).strip())"
   ]
  },
  {
   "cell_type": "markdown",
   "id": "cfe78cfb-6c37-4bc9-bcf2-807f01865e3e",
   "metadata": {},
   "source": [
    "### Q4. Identify dates & modify format to YYYY-MM-DD from below text"
   ]
  },
  {
   "cell_type": "code",
   "execution_count": 200,
   "id": "0907c6bc-63a1-48df-9588-27bd761dcfc5",
   "metadata": {},
   "outputs": [],
   "source": [
    "text = \"We have meetings scheduled on 12/05/2023, 23/06/2024, and 07/07/2025.\""
   ]
  },
  {
   "cell_type": "code",
   "execution_count": 201,
   "id": "a43d84de-f337-4666-8ce0-482634210eab",
   "metadata": {},
   "outputs": [
    {
     "data": {
      "text/plain": [
       "'We have meetings scheduled on 2023-05-12, 2024-06-23, and 2025-07-07.'"
      ]
     },
     "execution_count": 201,
     "metadata": {},
     "output_type": "execute_result"
    }
   ],
   "source": [
    "pattern = re.compile(r\"(\\d{2})/(\\d{2})/(\\d{4})\")\n",
    "\n",
    "replaced_text = re.sub(pattern, r\"\\3-\\2-\\1\", text)\n",
    "replaced_text"
   ]
  },
  {
   "cell_type": "markdown",
   "id": "c5e5f297-55e0-426a-a020-5fca60b81f12",
   "metadata": {},
   "source": [
    "### Q5. Extract URLs from given text"
   ]
  },
  {
   "cell_type": "code",
   "execution_count": 202,
   "id": "52b91be3-97ba-4ae0-b7cc-64d2c809f7c2",
   "metadata": {},
   "outputs": [],
   "source": [
    "text = \"\"\"\n",
    "Visit our website at https://www.example.com for more information.\n",
    "You can also check out our blog at http://blog.example.com or follow us on https://twitter.com/example.\n",
    "\"\"\""
   ]
  },
  {
   "cell_type": "code",
   "execution_count": 205,
   "id": "95aa7fba-b74f-4ed5-95ea-6eef6753625c",
   "metadata": {},
   "outputs": [
    {
     "name": "stdout",
     "output_type": "stream",
     "text": [
      "https://www.example.com\n",
      "http://blog.example.com\n",
      "https://twitter.com/example\n"
     ]
    }
   ],
   "source": [
    "pattern = re.compile(r\"https?://(www\\.)?[\\w.]+(/\\w+)?\")\n",
    "\n",
    "matches = re.finditer(pattern, text)\n",
    "\n",
    "for match in matches:\n",
    "\tprint(match.group())"
   ]
  },
  {
   "cell_type": "markdown",
   "id": "6f49b06e-0ad4-4f79-8bae-0fb5d6c3bf3b",
   "metadata": {},
   "source": [
    "### Q6. Extract all sentences from below text"
   ]
  },
  {
   "cell_type": "code",
   "execution_count": 207,
   "id": "7b0ecc64-0d96-4130-9442-baeb047019a3",
   "metadata": {},
   "outputs": [],
   "source": [
    "text = \"Hello world! How are you doing today? This is a great day. Let's make the most of it.\""
   ]
  },
  {
   "cell_type": "code",
   "execution_count": 209,
   "id": "9a847171-1c36-4a55-8acb-2f431204c78e",
   "metadata": {},
   "outputs": [
    {
     "name": "stdout",
     "output_type": "stream",
     "text": [
      "Hello world\n",
      "How are you doing today\n",
      "This is a great day\n",
      "Let's make the most of it\n"
     ]
    }
   ],
   "source": [
    "pattern = re.compile(r\"[!?.]\")\n",
    "\n",
    "sentences = re.split(pattern, text)\n",
    "\n",
    "for sentence in sentences[:-1]:\n",
    "\tprint(sentence.strip())"
   ]
  },
  {
   "cell_type": "markdown",
   "id": "ddbb11a5-15d4-4fb0-9aa7-ed73f68602e9",
   "metadata": {},
   "source": [
    "### Q7. Validate passwords based on following conditions:\n",
    "\n",
    "- atleast 8 characters in length\n",
    "- atleast one lowercase alphabet\n",
    "- atleast one uppercase alphabet\n",
    "- atleast one numeric digit"
   ]
  },
  {
   "cell_type": "code",
   "execution_count": 210,
   "id": "179339b3-e089-4cf0-9e80-d918a9483767",
   "metadata": {},
   "outputs": [],
   "source": [
    "passwords = [\n",
    "    \"Password123\",\n",
    "    \"pass123\",\n",
    "    \"PASSWORD123\",\n",
    "    \"Pass123\",\n",
    "    \"ValidPass1\"\n",
    "]"
   ]
  },
  {
   "cell_type": "code",
   "execution_count": 211,
   "id": "52fce78c-2cbd-41ea-bb3f-79b3805c9583",
   "metadata": {},
   "outputs": [
    {
     "name": "stdout",
     "output_type": "stream",
     "text": [
      "pass123\n",
      "PASSWORD123\n",
      "Pass123\n"
     ]
    }
   ],
   "source": [
    "pattern = re.compile(r\"^(?=.*[a-z])(?=.*[A-Z])(?=.*[0-9])[a-zA-Z0-9]{8,}\")\n",
    "\n",
    "for pw in passwords:\n",
    "\tif not re.match(pattern, pw):\n",
    "\t\tprint(pw)"
   ]
  },
  {
   "cell_type": "markdown",
   "id": "fe174959-4b1d-4858-86d2-c35ff8d5f04d",
   "metadata": {},
   "source": [
    "### Q8. Remove all HTML tags from given text"
   ]
  },
  {
   "cell_type": "code",
   "execution_count": 212,
   "id": "3743f13f-aac1-4aaf-9244-8fe393a87c10",
   "metadata": {},
   "outputs": [],
   "source": [
    "text = \"\"\"\n",
    "<p>\n",
    "The <strong>advent of technology</strong> in the 21st century has revolutionized the way we live and interact with the world around us. From the <em>smartphones</em> we carry to the <a href=\"https://en.wikipedia.org/wiki/Internet_of_things\" target=\"_blank\">Internet of Things</a> (IoT) devices that connect our homes, technology has become an <u>integral part</u> of our daily lives. <br><br>\n",
    "Consider the impact of <abbr title=\"Artificial Intelligence\">AI</abbr> on various industries. AI-driven applications are transforming <span style=\"color: blue;\">healthcare</span> by enabling predictive diagnostics and personalized treatment plans. In the realm of <span style=\"font-weight: bold;\">education</span>, AI is facilitating adaptive learning experiences that cater to individual student needs. <br><br>\n",
    "Moreover, the <mark>explosion of data</mark> has given rise to the field of data science, where professionals analyze vast amounts of information to uncover <q>insights</q> that drive decision-making across sectors. In <cite>finance</cite>, algorithms are being used to detect fraudulent activities and to automate trading processes, making the markets more efficient. <br><br>\n",
    "The rise of <kbd>cloud computing</kbd> has also played a crucial role in this technological transformation. By offering scalable and flexible computing resources, the cloud has enabled businesses to innovate without the constraints of physical infrastructure. This shift to the cloud has made it possible for <ins>startups</ins> and large enterprises alike to <del>maintain</del> <ins>achieve</ins> high levels of agility and resilience. <br><br>\n",
    "Looking ahead, the integration of <sup>5G</sup> networks promises to further accelerate the capabilities of connected devices, paving the way for advancements in areas such as <sub>autonomous vehicles</sub> and smart cities. As we continue to explore the potential of these emerging technologies, it is imperative that we also address the ethical and societal implications they bring. <br><br>\n",
    "In conclusion, the <strong>rapid pace</strong> of technological advancement presents both opportunities and challenges. By embracing innovation while remaining mindful of its impact, we can <i>harness the power</i> of technology to <u>create a better future</u> for all.\n",
    "</p>\n",
    "\"\"\""
   ]
  },
  {
   "cell_type": "code",
   "execution_count": 108,
   "id": "3b8b567d-b61a-48d6-9441-6922aae473b1",
   "metadata": {},
   "outputs": [],
   "source": [
    "# identify the HTML tags"
   ]
  },
  {
   "cell_type": "code",
   "execution_count": 215,
   "id": "3635fb11-87dd-49ba-bc7e-a74314ba1c0e",
   "metadata": {},
   "outputs": [
    {
     "name": "stdout",
     "output_type": "stream",
     "text": [
      "<p>\n",
      "<strong>\n",
      "</strong>\n",
      "<em>\n",
      "</em>\n",
      "<a href=\"https://en.wikipedia.org/wiki/Internet_of_things\" target=\"_blank\">\n",
      "</a>\n",
      "<u>\n",
      "</u>\n",
      "<br>\n",
      "<br>\n",
      "<abbr title=\"Artificial Intelligence\">\n",
      "</abbr>\n",
      "<span style=\"color: blue;\">\n",
      "</span>\n",
      "<span style=\"font-weight: bold;\">\n",
      "</span>\n",
      "<br>\n",
      "<br>\n",
      "<mark>\n",
      "</mark>\n",
      "<q>\n",
      "</q>\n",
      "<cite>\n",
      "</cite>\n",
      "<br>\n",
      "<br>\n",
      "<kbd>\n",
      "</kbd>\n",
      "<ins>\n",
      "</ins>\n",
      "<del>\n",
      "</del>\n",
      "<ins>\n",
      "</ins>\n",
      "<br>\n",
      "<br>\n",
      "<sup>\n",
      "</sup>\n",
      "<sub>\n",
      "</sub>\n",
      "<br>\n",
      "<br>\n",
      "<strong>\n",
      "</strong>\n",
      "<i>\n",
      "</i>\n",
      "<u>\n",
      "</u>\n",
      "</p>\n"
     ]
    }
   ],
   "source": [
    "pattern = re.compile(r\"</?.+?>\")\n",
    "\n",
    "matches = re.finditer(pattern, text)\n",
    "\n",
    "for match in matches:\n",
    "\tprint(match.group())"
   ]
  },
  {
   "cell_type": "code",
   "execution_count": 109,
   "id": "6c506f58-5871-48d5-9d05-3c6469ea54bb",
   "metadata": {},
   "outputs": [],
   "source": [
    "# remove the HTML tags"
   ]
  },
  {
   "cell_type": "code",
   "execution_count": 218,
   "id": "ac5d4249-7dec-4c9c-9b50-b3e5eec963aa",
   "metadata": {},
   "outputs": [
    {
     "name": "stdout",
     "output_type": "stream",
     "text": [
      "The advent of technology in the 21st century has revolutionized the way we live and interact with the world around us. From the smartphones we carry to the Internet of Things (IoT) devices that connect our homes, technology has become an integral part of our daily lives. \n",
      "Consider the impact of AI on various industries. AI-driven applications are transforming healthcare by enabling predictive diagnostics and personalized treatment plans. In the realm of education, AI is facilitating adaptive learning experiences that cater to individual student needs. \n",
      "Moreover, the explosion of data has given rise to the field of data science, where professionals analyze vast amounts of information to uncover insights that drive decision-making across sectors. In finance, algorithms are being used to detect fraudulent activities and to automate trading processes, making the markets more efficient. \n",
      "The rise of cloud computing has also played a crucial role in this technological transformation. By offering scalable and flexible computing resources, the cloud has enabled businesses to innovate without the constraints of physical infrastructure. This shift to the cloud has made it possible for startups and large enterprises alike to maintain achieve high levels of agility and resilience. \n",
      "Looking ahead, the integration of 5G networks promises to further accelerate the capabilities of connected devices, paving the way for advancements in areas such as autonomous vehicles and smart cities. As we continue to explore the potential of these emerging technologies, it is imperative that we also address the ethical and societal implications they bring. \n",
      "In conclusion, the rapid pace of technological advancement presents both opportunities and challenges. By embracing innovation while remaining mindful of its impact, we can harness the power of technology to create a better future for all.\n"
     ]
    }
   ],
   "source": [
    "print(re.sub(pattern, \"\", text).strip())"
   ]
  }
 ],
 "metadata": {
  "kernelspec": {
   "display_name": "demo",
   "language": "python",
   "name": "demo"
  },
  "language_info": {
   "codemirror_mode": {
    "name": "ipython",
    "version": 3
   },
   "file_extension": ".py",
   "mimetype": "text/x-python",
   "name": "python",
   "nbconvert_exporter": "python",
   "pygments_lexer": "ipython3",
   "version": "3.11.1"
  }
 },
 "nbformat": 4,
 "nbformat_minor": 5
}
